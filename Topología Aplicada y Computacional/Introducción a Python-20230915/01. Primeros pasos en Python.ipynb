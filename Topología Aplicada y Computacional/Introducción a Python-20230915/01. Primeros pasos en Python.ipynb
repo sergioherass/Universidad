{
 "cells": [
  {
   "cell_type": "markdown",
   "metadata": {},
   "source": [
    "# Primeros pasos en Python"
   ]
  },
  {
   "cell_type": "markdown",
   "metadata": {},
   "source": [
    "## Variables\n",
    "\n",
    "En Python las variables se asignan con el signo `=`. Por ejemplo, con el siguiente comando la variable `a` le asignamos el valor 5, de este modo luego podemos operar con él, modificar su valor, etc."
   ]
  },
  {
   "cell_type": "code",
   "execution_count": 1,
   "metadata": {},
   "outputs": [],
   "source": [
    "a = 5"
   ]
  },
  {
   "cell_type": "markdown",
   "metadata": {},
   "source": [
    "Las variables no pueden tomar cualquier nombre. Hay **palabras reservadas** que son:\n",
    "\n",
    "1. `def`, `return`, `global`, `nonlocal`, `yield`\n",
    "2. `import`, `from`, `as`\n",
    "3. `and`, `or`, `not`, `False`, `True`\n",
    "4. `if`, `else`, `elif`, `try`, `except`\n",
    "5. `while`, `for`, `break`, `continue`\n",
    "6. `finally`, `with`, `assert`, `del`, `raise`, `lambda`, `is`\n",
    "\n",
    "Si intentamos escribir esto en la consola de Python o en un editor que admita este lenguaje, probablemente la palabra cambie de color indicando que es una palabra reservada."
   ]
  },
  {
   "cell_type": "markdown",
   "metadata": {},
   "source": [
    "Con las variables podemos realizar diferentes operaciones:"
   ]
  },
  {
   "cell_type": "code",
   "execution_count": 1,
   "metadata": {},
   "outputs": [
    {
     "name": "stdout",
     "output_type": "stream",
     "text": [
      "12\n",
      "-2\n",
      "12\n",
      "0.7142857142857143\n",
      "0\n",
      "2\n",
      "78125\n"
     ]
    }
   ],
   "source": [
    "a=5\n",
    "b=7\n",
    "print(a+b) # = 12 suma\n",
    "print(a-b) # = -2 diferencia\n",
    "print(a+b) # = 12 product\n",
    "print(a/b) # = 0.7142857142857143 división\n",
    "print(a//b) # = 0 división entera\n",
    "print(b%a) # = 2 módulo\n",
    "print(a**b) # a^b = 78125 potencia"
   ]
  },
  {
   "cell_type": "markdown",
   "metadata": {},
   "source": [
    "Una característica de la asignación en Python, es que podemos realizar una doble asignación, que a veces es muy útil. Por ejemplo:"
   ]
  },
  {
   "cell_type": "code",
   "execution_count": 5,
   "metadata": {},
   "outputs": [
    {
     "name": "stdout",
     "output_type": "stream",
     "text": [
      "12\n",
      "-2\n"
     ]
    }
   ],
   "source": [
    "suma,diferencia = a+b,a-b\n",
    "print(suma)\n",
    "print(diferencia)"
   ]
  },
  {
   "cell_type": "markdown",
   "metadata": {},
   "source": [
    "Esto es muy útil cuando se nos presenta el hecho de que tenemos que permutar las variables:"
   ]
  },
  {
   "cell_type": "code",
   "execution_count": 6,
   "metadata": {},
   "outputs": [
    {
     "name": "stdout",
     "output_type": "stream",
     "text": [
      "7\n",
      "5\n"
     ]
    }
   ],
   "source": [
    "a,b=b,a\n",
    "print(a)\n",
    "print(b)"
   ]
  },
  {
   "cell_type": "markdown",
   "metadata": {},
   "source": [
    "### El comando `print`\n",
    "Como se observa, hemos usado el comando `print()` para mostrar el valor de las variables por pantalla. Como es un lenguaje interpretado (a diferencia de C, C++, etc.), el uso de este comando es quizá más interesante. \n",
    "\n",
    "Vamos a ver un poco cómo funciona antes de continuar nuestro estudio"
   ]
  },
  {
   "cell_type": "markdown",
   "metadata": {},
   "source": [
    "Las cadenas de caracteres (más comercialmente conocidos como `string`) vienen representadas entre comillas, ya sea las dobles comillas `\"Hola\"`, o las comillas simples: `'Hola'`"
   ]
  },
  {
   "cell_type": "code",
   "execution_count": 7,
   "metadata": {},
   "outputs": [
    {
     "name": "stdout",
     "output_type": "stream",
     "text": [
      "Hola\n"
     ]
    }
   ],
   "source": [
    "print(\"Hola\")"
   ]
  },
  {
   "cell_type": "code",
   "execution_count": 8,
   "metadata": {},
   "outputs": [
    {
     "name": "stdout",
     "output_type": "stream",
     "text": [
      "Hola\n"
     ]
    }
   ],
   "source": [
    "print('Hola')"
   ]
  },
  {
   "cell_type": "markdown",
   "metadata": {},
   "source": [
    "Si tenemos que mostrar texto y luego el valor de una variable, lo fácil es yuxtaponer ambos poniendo una coma `,` entre ellos."
   ]
  },
  {
   "cell_type": "code",
   "execution_count": 13,
   "metadata": {},
   "outputs": [
    {
     "name": "stdout",
     "output_type": "stream",
     "text": [
      "a = 7\n"
     ]
    }
   ],
   "source": [
    "print(\"a =\",a)"
   ]
  },
  {
   "cell_type": "code",
   "execution_count": 12,
   "metadata": {},
   "outputs": [
    {
     "name": "stdout",
     "output_type": "stream",
     "text": [
      "La suma de \"a\" y \"b\" es 12\n"
     ]
    }
   ],
   "source": [
    "print('La suma de \"a\" y \"b\" es',a+b)"
   ]
  },
  {
   "cell_type": "markdown",
   "metadata": {},
   "source": [
    "### El comando `input`\n",
    "\n",
    "Si `print()` es el comando por excelencia del _output_ de la máquina; el comando `input()` es el _input_ para Python, el mecanismo de entrada de teclado. Su uso es terroríficamente sencillo:"
   ]
  },
  {
   "cell_type": "code",
   "execution_count": 2,
   "metadata": {},
   "outputs": [
    {
     "name": "stdout",
     "output_type": "stream",
     "text": [
      "¿Qué edad tienes? 15\n",
      "¡Así que tienes 15 añazos!\n"
     ]
    }
   ],
   "source": [
    "edad = input(\"¿Qué edad tienes? \")\n",
    "print(\"¡Así que tienes\",edad,\"añazos!\")"
   ]
  },
  {
   "cell_type": "markdown",
   "metadata": {},
   "source": [
    "Sin embargo, la variable `edad` no es un número, sino una cadena de caracteres, esto es, un `string`:"
   ]
  },
  {
   "cell_type": "code",
   "execution_count": 3,
   "metadata": {},
   "outputs": [
    {
     "data": {
      "text/plain": [
       "str"
      ]
     },
     "execution_count": 3,
     "metadata": {},
     "output_type": "execute_result"
    }
   ],
   "source": [
    "type(edad)"
   ]
  },
  {
   "cell_type": "markdown",
   "metadata": {},
   "source": [
    "Si quisiéramos que fuese un número, tendríamos que forzar a que lo sea de la siguiente manera"
   ]
  },
  {
   "cell_type": "code",
   "execution_count": 4,
   "metadata": {},
   "outputs": [
    {
     "name": "stdout",
     "output_type": "stream",
     "text": [
      "¿Qué edad tienes? 15\n"
     ]
    },
    {
     "data": {
      "text/plain": [
       "int"
      ]
     },
     "execution_count": 4,
     "metadata": {},
     "output_type": "execute_result"
    }
   ],
   "source": [
    "edad = int(input(\"¿Qué edad tienes? \"))\n",
    "type(edad)"
   ]
  },
  {
   "cell_type": "markdown",
   "metadata": {},
   "source": [
    "Consecuentemente podríamos hacer todo tipo de operaciones."
   ]
  },
  {
   "cell_type": "code",
   "execution_count": null,
   "metadata": {},
   "outputs": [],
   "source": []
  }
 ],
 "metadata": {
  "kernelspec": {
   "display_name": "Python 3",
   "language": "python",
   "name": "python3"
  },
  "language_info": {
   "codemirror_mode": {
    "name": "ipython",
    "version": 3
   },
   "file_extension": ".py",
   "mimetype": "text/x-python",
   "name": "python",
   "nbconvert_exporter": "python",
   "pygments_lexer": "ipython3",
   "version": "3.8.2"
  }
 },
 "nbformat": 4,
 "nbformat_minor": 4
}
