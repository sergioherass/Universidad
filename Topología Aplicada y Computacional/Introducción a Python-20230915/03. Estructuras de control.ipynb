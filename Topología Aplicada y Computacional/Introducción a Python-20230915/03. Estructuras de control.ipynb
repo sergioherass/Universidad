{
 "cells": [
  {
   "cell_type": "markdown",
   "metadata": {},
   "source": [
    "# Las estructuras de control\n",
    "\n",
    "Como en todos los lenguajes de programación imperativos vamos a tener condicionales y bucles. Aquí descubriremos una de las mayores particularidades de la sintaxis de Python: la indentación."
   ]
  },
  {
   "cell_type": "markdown",
   "metadata": {},
   "source": [
    "## Condicional `if`\n",
    "\n",
    "La sintaxis de la condicional `if` es como sigue:\n",
    "***\n",
    "    if condición booleana:\n",
    "        # Si la condición booleana se cumple (es True) se ejecutan los siguientes comandos\n",
    "        Comandos\n",
    "    else:# Se ejecuta los siguientes comandos si la condición booleana es False\n",
    "        Comandos\n",
    "***\n",
    "\n",
    "Por ejemplo, el valor absoluto se definiría como sogue"
   ]
  },
  {
   "cell_type": "code",
   "execution_count": 6,
   "metadata": {},
   "outputs": [
    {
     "name": "stdout",
     "output_type": "stream",
     "text": [
      "5\n"
     ]
    }
   ],
   "source": [
    "x = -5\n",
    "\n",
    "if x>0:\n",
    "    print(x)\n",
    "else:\n",
    "    print(-x)"
   ]
  },
  {
   "cell_type": "markdown",
   "metadata": {},
   "source": [
    "En algunos lenguajes tenemos comandos como `case` y similares. En Python no tenemos estos comandos. En lugar de ello tenemos `elif`:\n",
    "***\n",
    "    if Bool1:\n",
    "        # Si Bool1 == True\n",
    "        Comandos1\n",
    "    elif Bool2:\n",
    "        # Si Bool1 == False & Bool2 == True\n",
    "        Comandos2\n",
    "    elif Bool3:\n",
    "        # Si Bool1 == False & Bool2 == False & Bool3 == True\n",
    "        Comandos3\n",
    "        ...\n",
    "    else:# Se ejecuta cuando todos los Bool# son == False\n",
    "        Comandos\n",
    "***"
   ]
  },
  {
   "cell_type": "markdown",
   "metadata": {},
   "source": [
    "## Sentencia `For` \n",
    "\n",
    "La siguiente de la lista es la sentencia `for`. En muchos lenguajes, lo usual es escribir cosas como\n",
    "***\n",
    "    for i = 1 to 10:\n",
    "***\n",
    "Pero esto **no** es así en Python. La sintaxis correcta es la siguiente:\n",
    "***\n",
    "    for x in Iterador/Lista/Conjunto/Tupla/Diccionario:\n",
    "        Comandos\n",
    "***\n",
    "En este caso, for recorre o bien un iterador (el más usual es `range`) pero también en este caso la variable `x` toma todos los valores de una lista, un conjunto, una tupla o incluso un diccionario (los índices)."
   ]
  },
  {
   "cell_type": "code",
   "execution_count": 7,
   "metadata": {},
   "outputs": [
    {
     "name": "stdout",
     "output_type": "stream",
     "text": [
      "0\n",
      "1\n",
      "2\n",
      "3\n",
      "4\n"
     ]
    }
   ],
   "source": [
    "# Los números del 0 al 4\n",
    "for i in range(5):\n",
    "    print(i)"
   ]
  },
  {
   "cell_type": "code",
   "execution_count": 8,
   "metadata": {},
   "outputs": [
    {
     "name": "stdout",
     "output_type": "stream",
     "text": [
      "2\n",
      "3\n",
      "4\n"
     ]
    }
   ],
   "source": [
    "# Los números del 2 al 4 (ambos inclusive)\n",
    "for i in range(2,5):\n",
    "    print(i)"
   ]
  },
  {
   "cell_type": "code",
   "execution_count": 9,
   "metadata": {},
   "outputs": [
    {
     "name": "stdout",
     "output_type": "stream",
     "text": [
      "2\n",
      "5\n",
      "8\n"
     ]
    }
   ],
   "source": [
    "# Los números del 2 al 10 con saltos de tres en tres\n",
    "for i in range(2,10,3):\n",
    "    print(i)"
   ]
  },
  {
   "cell_type": "code",
   "execution_count": 11,
   "metadata": {},
   "outputs": [
    {
     "name": "stdout",
     "output_type": "stream",
     "text": [
      "[1, 1, 2, 3, 5, 8, 13, 21, 34, 55, 89, 144, 233, 377, 610, 987, 1597, 2584, 4181, 6765, 10946, 17711, 28657, 46368, 75025, 121393, 196418, 317811, 514229, 832040, 1346269, 2178309, 3524578, 5702887, 9227465, 14930352, 24157817, 39088169, 63245986, 102334155, 165580141, 267914296, 433494437, 701408733, 1134903170, 1836311903, 2971215073, 4807526976, 7778742049, 12586269025, 20365011074, 32951280099, 53316291173, 86267571272, 139583862445, 225851433717, 365435296162, 591286729879, 956722026041, 1548008755920, 2504730781961, 4052739537881, 6557470319842, 10610209857723, 17167680177565, 27777890035288, 44945570212853, 72723460248141, 117669030460994, 190392490709135, 308061521170129, 498454011879264, 806515533049393, 1304969544928657, 2111485077978050, 3416454622906707, 5527939700884757, 8944394323791464, 14472334024676221, 23416728348467685, 37889062373143906, 61305790721611591, 99194853094755497, 160500643816367088, 259695496911122585, 420196140727489673, 679891637638612258, 1100087778366101931, 1779979416004714189, 2880067194370816120, 4660046610375530309, 7540113804746346429, 12200160415121876738, 19740274219868223167, 31940434634990099905, 51680708854858323072, 83621143489848422977, 135301852344706746049, 218922995834555169026, 354224848179261915075, 573147844013817084101, 927372692193078999176]\n"
     ]
    }
   ],
   "source": [
    "# Los diez primeros términos de la sucesión de Fibonacci\n",
    "fib = [1,1]\n",
    "for i in range(100):\n",
    "    fib.append(fib[-1]+fib[-2])\n",
    "print(fib)"
   ]
  },
  {
   "cell_type": "code",
   "execution_count": 12,
   "metadata": {},
   "outputs": [
    {
     "name": "stdout",
     "output_type": "stream",
     "text": [
      "Término 1 = 1\n",
      "Término 2 = 1\n",
      "Término 3 = 2\n",
      "Término 4 = 3\n",
      "Término 5 = 5\n",
      "Término 6 = 8\n",
      "Término 7 = 13\n",
      "Término 8 = 21\n",
      "Término 9 = 34\n",
      "Término 10 = 55\n"
     ]
    }
   ],
   "source": [
    "# Si no queremos almacenar todos los valores, tenemos esta variante\n",
    "f0 = 1\n",
    "f1 = 1\n",
    "print(\"Término 1 =\",f0)\n",
    "print(\"Término 2 =\",f1)\n",
    "for i in range(3,11):\n",
    "    f0,f1=f1,f0+f1\n",
    "    print(\"Término\",i,\"=\",f1)\n",
    "\n"
   ]
  },
  {
   "cell_type": "markdown",
   "metadata": {},
   "source": [
    "A la instrucción `for` se le puede poner como apéndice la instrucción `else`, que se ejecutaría al final del bucle. \n",
    "***\n",
    "    for x in Iterator:\n",
    "        Comandos\n",
    "    else:\n",
    "        Comandos\n",
    "***"
   ]
  },
  {
   "cell_type": "markdown",
   "metadata": {},
   "source": [
    "Se puede usar listas, conjuntos, etc para usar las iteraciones"
   ]
  },
  {
   "cell_type": "code",
   "execution_count": 18,
   "metadata": {},
   "outputs": [
    {
     "name": "stdout",
     "output_type": "stream",
     "text": [
      "2\n",
      "3\n",
      "5\n",
      "7\n",
      "11\n"
     ]
    }
   ],
   "source": [
    "for i in set([2,3,5,7,11]):\n",
    "    print(i)"
   ]
  },
  {
   "cell_type": "code",
   "execution_count": 23,
   "metadata": {},
   "outputs": [
    {
     "name": "stdout",
     "output_type": "stream",
     "text": [
      "5\n"
     ]
    }
   ],
   "source": [
    "aes = 0\n",
    "for letra in 'abracadabra':\n",
    "    if letra=='a':\n",
    "        aes+=1\n",
    "    else:\n",
    "        pass\n",
    "    \n",
    "print(aes)"
   ]
  },
  {
   "cell_type": "markdown",
   "metadata": {},
   "source": [
    "La instrucción `for` se puede utilizar para crear listas de una manera mucho más elegante, conocido como _list comprehension:_"
   ]
  },
  {
   "cell_type": "code",
   "execution_count": 25,
   "metadata": {},
   "outputs": [
    {
     "data": {
      "text/plain": [
       "[1, 1, 3, 7, 13, 21, 31, 43, 57, 73]"
      ]
     },
     "execution_count": 25,
     "metadata": {},
     "output_type": "execute_result"
    }
   ],
   "source": [
    "[x**2-x+1 for x in range(10)]"
   ]
  },
  {
   "cell_type": "code",
   "execution_count": 26,
   "metadata": {},
   "outputs": [
    {
     "data": {
      "text/plain": [
       "['aa', 'bb', 'rr', 'aa', 'cc', 'aa', 'dd', 'aa', 'bb', 'rr', 'aa']"
      ]
     },
     "execution_count": 26,
     "metadata": {},
     "output_type": "execute_result"
    }
   ],
   "source": [
    "[x*2 for x in 'abracadabra']"
   ]
  },
  {
   "cell_type": "markdown",
   "metadata": {},
   "source": [
    "Se puede usar instrucciones `if` dentro de la _list comprehension_"
   ]
  },
  {
   "cell_type": "code",
   "execution_count": 3,
   "metadata": {},
   "outputs": [
    {
     "name": "stdout",
     "output_type": "stream",
     "text": [
      "Los números pares menores de 20 son  [2, 4, 6, 8, 10, 12, 14, 16, 18]\n",
      "Los primeros números primos son  [2, 3, 5, 7, 11, 13, 17, 19]\n"
     ]
    }
   ],
   "source": [
    "pares = [x for x in range(1,20) if x%2 == 0]\n",
    "print(\"Los números pares menores de 20 son \",pares)\n",
    "primos = [x for x in range(2, 20) if all(x % y != 0 for y in range(2, x))]\n",
    "print(\"Los primeros números primos son \",primos)"
   ]
  },
  {
   "cell_type": "markdown",
   "metadata": {},
   "source": [
    "## Bucles: `while`\n",
    "\n",
    "Los bucles siguen una sintaxis bastante usual y estándar:\n",
    "***\n",
    "    while Boolean cond:\n",
    "        comandos\n",
    "***\n",
    "Como es usual, los comandos dentro del `while` se ejecutarían una y otra vez mientras la condición booleana se cumpla.\n",
    "\n",
    "También, al igual que en la instrucción `for`, podemos añadir un `else` que se ejecutaría al finalizar el bucle."
   ]
  },
  {
   "cell_type": "markdown",
   "metadata": {},
   "source": [
    "La sucesión de Collatz se define como $x_0$ arbitrario y $$x_{n+1}=\\left\\{\\begin{array}{ll} x_n/2 & \\text{ si $x_n$ par}\\\\ 3x_n+1 & \\text{ si $x_n$ impar}\\end{array}\\right.$$ Se conjetura que para cualquier $x_0>0$ entero, existe un $N$ tal que $x_N=1$."
   ]
  },
  {
   "cell_type": "code",
   "execution_count": 15,
   "metadata": {
    "scrolled": true
   },
   "outputs": [
    {
     "name": "stdout",
     "output_type": "stream",
     "text": [
      "99\n",
      "298\n",
      "149\n",
      "448\n",
      "224\n",
      "112\n",
      "56\n",
      "28\n",
      "14\n",
      "7\n",
      "22\n",
      "11\n",
      "34\n",
      "17\n",
      "52\n",
      "26\n",
      "13\n",
      "40\n",
      "20\n",
      "10\n",
      "5\n",
      "16\n",
      "8\n",
      "4\n",
      "2\n",
      "1\n"
     ]
    }
   ],
   "source": [
    "# Calculamos la sucesión de Collatz mientras \n",
    "collatz = 99\n",
    "\n",
    "while collatz != 1:\n",
    "    print(collatz)\n",
    "    if collatz % 2 == 0:\n",
    "        collatz = collatz//2\n",
    "    else:\n",
    "        collatz = 3*collatz + 1\n",
    "else: \n",
    "    print(collatz)\n"
   ]
  },
  {
   "cell_type": "markdown",
   "metadata": {},
   "source": [
    "Existen dos instrucciones que pueden usarse dentro de un bucle (`while` o `for`), y son:\n",
    "1. `break`: finaliza el bucle, independientemente de que la condición se cumpla o no\n",
    "2. `continue`: vuelve al inicio del bucle, aunque no se hayan concluido todos los comandos\n",
    "\n",
    "A continuación, reescribimos el ejemplo anterior creando un bucle infinito"
   ]
  },
  {
   "cell_type": "code",
   "execution_count": 16,
   "metadata": {},
   "outputs": [
    {
     "name": "stdout",
     "output_type": "stream",
     "text": [
      "23\n",
      "70\n",
      "35\n",
      "106\n",
      "53\n",
      "160\n",
      "80\n",
      "40\n",
      "20\n",
      "10\n",
      "5\n",
      "16\n",
      "8\n",
      "4\n",
      "2\n",
      "1\n"
     ]
    }
   ],
   "source": [
    "collatz = 23\n",
    "\n",
    "while True:\n",
    "    print(collatz)\n",
    "    if collatz == 1:\n",
    "        break\n",
    "    elif collatz % 2 == 0:\n",
    "        collatz = collatz//2\n",
    "    else:\n",
    "        collatz = 3*collatz + 1\n",
    "    "
   ]
  },
  {
   "cell_type": "code",
   "execution_count": null,
   "metadata": {},
   "outputs": [],
   "source": []
  }
 ],
 "metadata": {
  "kernelspec": {
   "display_name": "Python 3",
   "language": "python",
   "name": "python3"
  },
  "language_info": {
   "codemirror_mode": {
    "name": "ipython",
    "version": 3
   },
   "file_extension": ".py",
   "mimetype": "text/x-python",
   "name": "python",
   "nbconvert_exporter": "python",
   "pygments_lexer": "ipython3",
   "version": "3.7.6"
  }
 },
 "nbformat": 4,
 "nbformat_minor": 4
}
