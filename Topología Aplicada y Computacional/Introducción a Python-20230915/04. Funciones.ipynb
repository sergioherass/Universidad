{
 "cells": [
  {
   "cell_type": "markdown",
   "metadata": {},
   "source": [
    "# Funciones\n",
    "\n",
    "La sintaxis de las funciones sigue la misma sintaxis que hemos utilizado en las estrucutras de control: la indentación.\n",
    "\n",
    "Para declarar una función, se escribe como sigue\n",
    "***\n",
    "    def mcd(a,b):\n",
    "        \"\"\"\n",
    "        Documentación de la función\n",
    "        \"\"\"\n",
    "        Comandos\n",
    "        return b #Opcional\n",
    "***\n",
    "\n",
    "Vamos a verlo con un ejemplo:"
   ]
  },
  {
   "cell_type": "code",
   "execution_count": 1,
   "metadata": {},
   "outputs": [
    {
     "data": {
      "text/plain": [
       "6"
      ]
     },
     "execution_count": 1,
     "metadata": {},
     "output_type": "execute_result"
    }
   ],
   "source": [
    "def mcd(a,b):\n",
    "    \"\"\"\n",
    "    Calcula el máximo común divisor de dos números enteros positivos mediante el algoritmo de Euclides.\n",
    "    \"\"\"\n",
    "    while b != 0:\n",
    "        a, b = b, a%b\n",
    "    return a\n",
    "\n",
    "mcd(12,18)"
   ]
  },
  {
   "cell_type": "markdown",
   "metadata": {},
   "source": [
    "La documentación no sólo sirve para el que tiene que programar (y corregir el código), sino también para el usuario"
   ]
  },
  {
   "cell_type": "code",
   "execution_count": 2,
   "metadata": {},
   "outputs": [
    {
     "name": "stdout",
     "output_type": "stream",
     "text": [
      "Help on function mcd in module __main__:\n",
      "\n",
      "mcd(a, b)\n",
      "    Calcula el máximo común divisor de dos números enteros positivos mediante el algoritmo de Euclides.\n",
      "\n"
     ]
    }
   ],
   "source": [
    "help(mcd)"
   ]
  },
  {
   "cell_type": "markdown",
   "metadata": {},
   "source": [
    "Las funciones admiten recursión. Vamos a reescribir el máximo común divisor usando recursión."
   ]
  },
  {
   "cell_type": "code",
   "execution_count": 3,
   "metadata": {},
   "outputs": [
    {
     "data": {
      "text/plain": [
       "6"
      ]
     },
     "execution_count": 3,
     "metadata": {},
     "output_type": "execute_result"
    }
   ],
   "source": [
    "def mcd(a,b):\n",
    "    \"\"\"\n",
    "    Calcula el máximo común divisor de manera recursiva\n",
    "    \"\"\"\n",
    "    if (b == 0):\n",
    "        return a\n",
    "    else:\n",
    "        return mcd(b,a%b)\n",
    "\n",
    "mcd(12,18)"
   ]
  },
  {
   "cell_type": "markdown",
   "metadata": {},
   "source": [
    "## Las funciones lambda\n",
    "\n",
    "Una de las particularidades de Python es que tiene alguna sintaxis propia de los lenguajes de programación funcionales como Haskell. Estas son las funciones lambda. Sirven para definir funciones de una manera muy rápida, sobre todo cuando no es necesario darles un nombre por su uso efímero. "
   ]
  },
  {
   "cell_type": "code",
   "execution_count": 4,
   "metadata": {},
   "outputs": [
    {
     "data": {
      "text/plain": [
       "2500"
      ]
     },
     "execution_count": 4,
     "metadata": {},
     "output_type": "execute_result"
    }
   ],
   "source": [
    "square = lambda x : x**2\n",
    "\n",
    "square(50)"
   ]
  },
  {
   "cell_type": "markdown",
   "metadata": {},
   "source": [
    "Pero no es necesario ponerle nombre a las funciones (con lo que no desperdiciamos nombres):"
   ]
  },
  {
   "cell_type": "code",
   "execution_count": 1,
   "metadata": {},
   "outputs": [
    {
     "data": {
      "text/plain": [
       "2500"
      ]
     },
     "execution_count": 1,
     "metadata": {},
     "output_type": "execute_result"
    }
   ],
   "source": [
    "(lambda x : x**2)(50)"
   ]
  },
  {
   "cell_type": "markdown",
   "metadata": {},
   "source": [
    "Por supuesto, podemos crear funciones con varias entradas:"
   ]
  },
  {
   "cell_type": "code",
   "execution_count": 3,
   "metadata": {},
   "outputs": [
    {
     "data": {
      "text/plain": [
       "15"
      ]
     },
     "execution_count": 3,
     "metadata": {},
     "output_type": "execute_result"
    }
   ],
   "source": [
    "producto = lambda x, y : x*y\n",
    "producto(3,5)"
   ]
  },
  {
   "cell_type": "markdown",
   "metadata": {},
   "source": [
    "Hay dos funciones `map` y `filter` que suelen asocirse a estas funciones `lambda`, por crear _funciones anónimas_.\n",
    "1. `filter(func_bool, list)` filtra los elementos de una lista `list` que satisface la función booleana `func_bool`. **Ojo,** que el resultado no es una lista.\n",
    "2. `map(func, list)` aplica a cada uno de los elementos de la lista `list` la función `func`. De nuevo, el resultado no es una lista.\n",
    "\n"
   ]
  },
  {
   "cell_type": "code",
   "execution_count": 11,
   "metadata": {},
   "outputs": [
    {
     "data": {
      "text/plain": [
       "[7, 13, 19, 31, 37, 43]"
      ]
     },
     "execution_count": 11,
     "metadata": {},
     "output_type": "execute_result"
    }
   ],
   "source": [
    "primos = [x for x in range(2, 50) if all(x % y != 0 for y in range(2, x))]\n",
    "filter(lambda x: x%3==1, primos) # Esto NO es una lista\n",
    "list(filter(lambda x: x%3==1, primos)) "
   ]
  },
  {
   "cell_type": "code",
   "execution_count": 14,
   "metadata": {},
   "outputs": [
    {
     "data": {
      "text/plain": [
       "[2, 0, 2, 1, 2, 1, 2, 1, 2, 2, 1, 1, 2, 1, 2]"
      ]
     },
     "execution_count": 14,
     "metadata": {},
     "output_type": "execute_result"
    }
   ],
   "source": [
    "primos = [x for x in range(2, 50) if all(x % y != 0 for y in range(2, x))]\n",
    "list(map(lambda x: x%3, primos))"
   ]
  },
  {
   "cell_type": "code",
   "execution_count": null,
   "metadata": {},
   "outputs": [],
   "source": []
  }
 ],
 "metadata": {
  "kernelspec": {
   "display_name": "Python 3",
   "language": "python",
   "name": "python3"
  },
  "language_info": {
   "codemirror_mode": {
    "name": "ipython",
    "version": 3
   },
   "file_extension": ".py",
   "mimetype": "text/x-python",
   "name": "python",
   "nbconvert_exporter": "python",
   "pygments_lexer": "ipython3",
   "version": "3.7.6"
  }
 },
 "nbformat": 4,
 "nbformat_minor": 4
}
