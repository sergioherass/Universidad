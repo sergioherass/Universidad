{
 "cells": [
  {
   "cell_type": "markdown",
   "metadata": {},
   "source": [
    "# Clases\n",
    "\n",
    "Programar con objetos es algo muy habitual en estos lenguajes de programación. Python puede definir clases. Aquí sólo veremos las clases de una forma muy elemental.\n",
    "\n",
    "La definición de una clase es muy sencilla:\n",
    "\n",
    "***\n",
    "class miclase():\n",
    "    pass\n",
    "***\n",
    "\n",
    "Aquí `pass` es algo así como el comando nulo o \"no hacer nada\". Por supuesto, esta clase es bastante inútil. Vamos a definir una clase un poco más interesante."
   ]
  },
  {
   "cell_type": "code",
   "execution_count": 2,
   "metadata": {},
   "outputs": [],
   "source": [
    "class persona():\n",
    "    def __init__(self,nombre,apellido1,apellido2):\n",
    "        self.name = nombre\n",
    "        self.surname = [apellido1, apellido2]"
   ]
  },
  {
   "cell_type": "markdown",
   "metadata": {},
   "source": [
    "Ahora definimos a nuestro vecino como variable. Se llamará José Pérez Rodríguez."
   ]
  },
  {
   "cell_type": "code",
   "execution_count": 3,
   "metadata": {},
   "outputs": [
    {
     "data": {
      "text/plain": [
       "'José'"
      ]
     },
     "execution_count": 3,
     "metadata": {},
     "output_type": "execute_result"
    }
   ],
   "source": [
    "Vecino = persona(\"José\", \"Pérez\", \"Rodríguez\")\n",
    "Vecino.name"
   ]
  },
  {
   "cell_type": "markdown",
   "metadata": {},
   "source": [
    "Para permitir definir una nueva clase, lo que hacemos es definir el **método** `__init__` de la clase persona. Observa que es una función. Además, la primera entrada es `self`: podría llevar otro nombre (aunque tradicionalmente se usa este), pero esta entrada representa a la propia variable que estamos definiendo."
   ]
  },
  {
   "cell_type": "markdown",
   "metadata": {},
   "source": [
    "Sin embargo... si realizamos un `print` no obtenemos algo deseado."
   ]
  },
  {
   "cell_type": "code",
   "execution_count": 4,
   "metadata": {},
   "outputs": [
    {
     "name": "stdout",
     "output_type": "stream",
     "text": [
      "<__main__.persona object at 0x7f35b466d460>\n"
     ]
    }
   ],
   "source": [
    "print(Vecino)"
   ]
  },
  {
   "cell_type": "markdown",
   "metadata": {},
   "source": [
    "Para todas estas cosas es necesario trabajar un poco más. Pero de momento vamos a dejarlo aparte este problema. Por ahora vamos a ver cómo añadir nuevos métodos\n",
    "\n",
    "\n",
    "\n"
   ]
  },
  {
   "cell_type": "code",
   "execution_count": 6,
   "metadata": {},
   "outputs": [],
   "source": [
    "class persona():\n",
    "    def __init__(self,nombre,apellido1,apellido2):\n",
    "        self.nombre = nombre\n",
    "        self.apellidos = [apellido1, apellido2]\n",
    "    def bautizo(self, nuevonombre):\n",
    "        self.nombre = nuevonombre"
   ]
  },
  {
   "cell_type": "markdown",
   "metadata": {},
   "source": [
    "Ahora hemos definido un nuevo método: `bautizo`. Veamos cómo se puede usar."
   ]
  },
  {
   "cell_type": "code",
   "execution_count": 7,
   "metadata": {},
   "outputs": [
    {
     "data": {
      "text/plain": [
       "'Luis'"
      ]
     },
     "execution_count": 7,
     "metadata": {},
     "output_type": "execute_result"
    }
   ],
   "source": [
    "Vecino = persona(\"Paco\",\"Jiménez\",\"Cordero\")\n",
    "Vecino.bautizo(\"Luis\")\n",
    "Vecino.nombre"
   ]
  },
  {
   "cell_type": "markdown",
   "metadata": {},
   "source": [
    "Así que podemos definir nuevos métodos para las clases.\n",
    "\n",
    "Pero se nos quedó colgando el problema del `print`. Vamos a resolverlo ahora con algo que se llama **sobrecarga de operadores**. Vamos a dar una lista de los métodos y a qué funciones corresponden.\n",
    "\n",
    "### Operaciones aritméticas\n",
    "\n",
    "| **Método** | **Función** |\n",
    "|:-|:-|\n",
    "| `__add__` | `+` |\n",
    "| `__sub__` | `-` |\n",
    "| `__mul__` | `*` |\n",
    "| `__pow__` | `**` |\n",
    "| `__truediv__` | `/` |\n",
    "| `__floordiv__` | `//` |\n",
    "| `__mod__` | `%` |\n",
    "\n",
    "### Operadores comparativos\n",
    "\n",
    "| **Método** | **Función** |\n",
    "|:-|:-|\n",
    "| `__lt__` | `<` |\n",
    "| `__le__` | `<=` |\n",
    "| `__gt__` | `>` |\n",
    "| `__ge__` | `>=` |\n",
    "| `__ne__` | `!=` |\n",
    "| `__eq__` | `==` |\n",
    "\n",
    "### Operadores lógicos\n",
    "\n",
    "| **Método** | **Función** |\n",
    "|:-|:-|\n",
    "| `__and__` | `and` o `&` |\n",
    "| `__or__` | `or` |\n",
    "| `__xor__` | `^` |\n",
    "| `__invert__` | `not` o `~` |\n",
    "\n",
    "Y finalmente\n",
    "\n",
    "| **Método** | **Función** |\n",
    "|:-|:-|\n",
    "| `__str__` | `print()` |\n",
    "\n",
    "Con esto podemos crear clases como los números racionales. Por ejemplo:"
   ]
  },
  {
   "cell_type": "code",
   "execution_count": 29,
   "metadata": {},
   "outputs": [],
   "source": [
    "class Rational():\n",
    "    def __init__(self,p,q):\n",
    "        # Denominador SIEMPRE positivo\n",
    "        if q == 0: \n",
    "            raise ZeroDivisionError\n",
    "        elif q<0:\n",
    "            self.numerator = -p\n",
    "            self.denominator = -q\n",
    "        else:\n",
    "            self.numerator = p\n",
    "            self.denominator = q\n",
    "    \n",
    "    def reduce(self):\n",
    "        # Local variables\n",
    "        a = self.numerator\n",
    "        b = self.denominator\n",
    "        while b != 0:\n",
    "            a, b = b, a%b\n",
    "        self.numerator = self.numerator // a\n",
    "        self.denominator = self.denominator // a\n",
    "    \n",
    "    def __str__(self):\n",
    "        return str(self.numerator)+\"/\"+str(self.denominator)\n",
    "    \n",
    "    ### Operadores de comparación\n",
    "    def __eq__(self,other):\n",
    "        return self.numerator*other.denominator == self.denominator*other.numerator\n",
    "    \n",
    "    def __ne__(self,other):\n",
    "        return self.numerator*other.denominator != self.denominator*other.numerator\n",
    "    \n",
    "    def __lt__(self,other):\n",
    "        return self.numerator*other.denominator < self.denominator*other.numerator\n",
    "    \n",
    "    def __le__(self,other):\n",
    "        return self.numerator*other.denominator <= self.denominator*other.numerator\n",
    "    \n",
    "    def __gt__(self,other):\n",
    "        return self.numerator*other.denominator > self.denominator*other.numerator\n",
    "\n",
    "    def __ge__(self,other):\n",
    "        return self.numerator*other.denominator >= self.denominator*other.numerator\n",
    "    \n",
    "    # Operaciones aritméticas\n",
    "    def __mul__(self,other):\n",
    "        return Rational(self.numerator*other.numerator, self.denominator*other.denominator)\n",
    "    \n",
    "    def __invert__(self):\n",
    "        return Rational(self.denominator, self.numerator)\n",
    "    \n",
    "    def __truediv__(self,other):\n",
    "        return Rational(self.numerator*other.denominator, self.denominator*other.numerator)\n",
    "    \n",
    "    def __add__(self,other):\n",
    "        return Rational(self.numerator*other.denominator + self.denominator*other.numerator, self.denominator*other.denominator)\n",
    "    \n",
    "    def __sub__(self,other):\n",
    "        return Rational(self.numerator*other.denominator - self.denominator*other.numerator, self.denominator*other.denominator)\n",
    "    \n",
    "    def __pow__(self,n):\n",
    "        return Rational(self.numerator**n, self.denominator**n)"
   ]
  },
  {
   "cell_type": "code",
   "execution_count": 30,
   "metadata": {},
   "outputs": [],
   "source": [
    "r = Rational(6,4)\n",
    "r.reduce()"
   ]
  },
  {
   "cell_type": "code",
   "execution_count": 33,
   "metadata": {},
   "outputs": [
    {
     "name": "stdout",
     "output_type": "stream",
     "text": [
      "9/4\n",
      "12/4\n"
     ]
    }
   ],
   "source": [
    "print(r*r)\n",
    "print(r+r)"
   ]
  },
  {
   "cell_type": "raw",
   "metadata": {},
   "source": [
    "rr=r+r"
   ]
  },
  {
   "cell_type": "code",
   "execution_count": 37,
   "metadata": {},
   "outputs": [
    {
     "ename": "NameError",
     "evalue": "name 'rr' is not defined",
     "output_type": "error",
     "traceback": [
      "\u001b[0;31m---------------------------------------------------------------------------\u001b[0m",
      "\u001b[0;31mNameError\u001b[0m                                 Traceback (most recent call last)",
      "\u001b[0;32m<ipython-input-37-23bad98cba87>\u001b[0m in \u001b[0;36m<module>\u001b[0;34m\u001b[0m\n\u001b[0;32m----> 1\u001b[0;31m \u001b[0mrr\u001b[0m\u001b[0;34m\u001b[0m\u001b[0;34m\u001b[0m\u001b[0m\n\u001b[0m",
      "\u001b[0;31mNameError\u001b[0m: name 'rr' is not defined"
     ]
    }
   ],
   "source": [
    "rr"
   ]
  },
  {
   "cell_type": "code",
   "execution_count": null,
   "metadata": {},
   "outputs": [],
   "source": []
  }
 ],
 "metadata": {
  "kernelspec": {
   "display_name": "Python 3",
   "language": "python",
   "name": "python3"
  },
  "language_info": {
   "codemirror_mode": {
    "name": "ipython",
    "version": 3
   },
   "file_extension": ".py",
   "mimetype": "text/x-python",
   "name": "python",
   "nbconvert_exporter": "python",
   "pygments_lexer": "ipython3",
   "version": "3.8.2"
  }
 },
 "nbformat": 4,
 "nbformat_minor": 4
}
