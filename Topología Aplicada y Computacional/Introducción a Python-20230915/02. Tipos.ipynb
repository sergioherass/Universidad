{
 "cells": [
  {
   "cell_type": "markdown",
   "metadata": {},
   "source": [
    "# Tipos"
   ]
  },
  {
   "cell_type": "markdown",
   "metadata": {},
   "source": [
    "En Python, a diferencia de otros lenguajes de programación tan populares como C, C++, Pascal, etc, no es necesario declarar el tipo del que es la variable, si es un entero, entero doble, `float` (decimal), `string` (cadena de caracteres), booleano, etc. Ni siquiera declararlo inicialmente su existencia (esto puede crear un poco de confusión si no se escribe adecuadamente claro el código). \n",
    "\n",
    "Los tipos de los que Python dispone son similares a los de C o C++, pero con algunas sutiles diferencias como veremos, que lo hacen especialmente interesante para cálculos científicos.\n"
   ]
  },
  {
   "cell_type": "markdown",
   "metadata": {},
   "source": [
    "## Booleanos\n",
    "\n",
    "Los booleanos, más conocidos entre el público veterano como `bool`, son las variables _Verdadero_ y _Falso._ Aquí, estos valores son `True` y `False`, respectivamente, con la inicial en mayúscula. "
   ]
  },
  {
   "cell_type": "code",
   "execution_count": 26,
   "metadata": {},
   "outputs": [
    {
     "data": {
      "text/plain": [
       "True"
      ]
     },
     "execution_count": 26,
     "metadata": {},
     "output_type": "execute_result"
    }
   ],
   "source": [
    "True"
   ]
  },
  {
   "cell_type": "markdown",
   "metadata": {},
   "source": [
    "Las operaciones que podemos hacer son \n",
    "\n",
    "1. *and*, que viene dado por `&` o la palabra `and`\n",
    "2. *or*, que viene dado por la palabra `or`\n",
    "3. _xor_ (disyuntiva excluyente), que viene dado por `^`\n",
    "4. *not*, que viene dado por `~` o la palabra `not`"
   ]
  },
  {
   "cell_type": "code",
   "execution_count": 30,
   "metadata": {},
   "outputs": [
    {
     "data": {
      "text/plain": [
       "True"
      ]
     },
     "execution_count": 30,
     "metadata": {},
     "output_type": "execute_result"
    }
   ],
   "source": [
    "False or True"
   ]
  },
  {
   "cell_type": "markdown",
   "metadata": {},
   "source": [
    "Como es habitual en los lenguajes de programación imperativos, como es Python (y C), los booleanos aparecen de forma implícita en las condiciones de las estructuras de control de `while` e `if`. En muchos casos, éstos derivan de si existe una igualdad o una desigualdad:\n",
    "\n",
    "1. `==` dos iguales yuxtapuestos para indicar una igualdad booleana\n",
    "2. `!=` distinto\n",
    "3. `<` y `>` son menor que o mayor que respectivamente\n",
    "4. `<=` y `>=` son menor o igual que o mayor o igual que respectivamente\n",
    "\n",
    "Otras comparaciones que veremos son `in` e `is`. "
   ]
  },
  {
   "cell_type": "code",
   "execution_count": 1,
   "metadata": {},
   "outputs": [
    {
     "data": {
      "text/plain": [
       "True"
      ]
     },
     "execution_count": 1,
     "metadata": {},
     "output_type": "execute_result"
    }
   ],
   "source": [
    "not False"
   ]
  },
  {
   "cell_type": "code",
   "execution_count": 2,
   "metadata": {},
   "outputs": [
    {
     "data": {
      "text/plain": [
       "True"
      ]
     },
     "execution_count": 2,
     "metadata": {},
     "output_type": "execute_result"
    }
   ],
   "source": [
    "4<=5"
   ]
  },
  {
   "cell_type": "code",
   "execution_count": 3,
   "metadata": {},
   "outputs": [
    {
     "data": {
      "text/plain": [
       "False"
      ]
     },
     "execution_count": 3,
     "metadata": {},
     "output_type": "execute_result"
    }
   ],
   "source": [
    "4==5"
   ]
  },
  {
   "cell_type": "markdown",
   "metadata": {},
   "source": [
    "## Enteros (`int`)\n",
    "\n",
    "Los números enteros son el tipo `int`. Todas las operaciones anteriormente explicadas se pueden aplicar, aunque la división `/` produzca no un número entero sino un `float`. \n",
    "\n",
    "A diferencia de otros lenguajes de programación que funcionan a más bajo nivel (como C o C++), los enteros de Python _no tienen límite:_"
   ]
  },
  {
   "cell_type": "code",
   "execution_count": 56,
   "metadata": {},
   "outputs": [
    {
     "data": {
      "text/plain": [
       "2350988701644575015937473074444491355637331113544175043017503412556834518909454345703125"
      ]
     },
     "execution_count": 56,
     "metadata": {},
     "output_type": "execute_result"
    }
   ],
   "source": [
    "((5**5)**5)**5 # El valor de esta cuenta excedería con mucho el rango de valores aceptado para int y double int\n"
   ]
  },
  {
   "cell_type": "markdown",
   "metadata": {},
   "source": [
    "Para saber el tipo de variables con la que estamos tratando, usaremos el comando `type()`"
   ]
  },
  {
   "cell_type": "code",
   "execution_count": 1,
   "metadata": {},
   "outputs": [
    {
     "data": {
      "text/plain": [
       "int"
      ]
     },
     "execution_count": 1,
     "metadata": {},
     "output_type": "execute_result"
    }
   ],
   "source": [
    "type(2)"
   ]
  },
  {
   "cell_type": "code",
   "execution_count": 2,
   "metadata": {},
   "outputs": [
    {
     "data": {
      "text/plain": [
       "float"
      ]
     },
     "execution_count": 2,
     "metadata": {},
     "output_type": "execute_result"
    }
   ],
   "source": [
    "type(2/3)"
   ]
  },
  {
   "cell_type": "code",
   "execution_count": 4,
   "metadata": {},
   "outputs": [
    {
     "data": {
      "text/plain": [
       "0.6666666666666666"
      ]
     },
     "execution_count": 4,
     "metadata": {},
     "output_type": "execute_result"
    }
   ],
   "source": [
    "2/3"
   ]
  },
  {
   "cell_type": "markdown",
   "metadata": {},
   "source": [
    "Si tenemos un valor decimal, y lo queremos convertir a un entero, podemos usar el comando `int()`"
   ]
  },
  {
   "cell_type": "code",
   "execution_count": 5,
   "metadata": {},
   "outputs": [
    {
     "data": {
      "text/plain": [
       "4"
      ]
     },
     "execution_count": 5,
     "metadata": {},
     "output_type": "execute_result"
    }
   ],
   "source": [
    "int(4.6) # Lo redondea por abajo"
   ]
  },
  {
   "cell_type": "markdown",
   "metadata": {},
   "source": [
    "También vale para cadenas de caracteres que se correspondan con números,"
   ]
  },
  {
   "cell_type": "code",
   "execution_count": 6,
   "metadata": {},
   "outputs": [
    {
     "data": {
      "text/plain": [
       "25"
      ]
     },
     "execution_count": 6,
     "metadata": {},
     "output_type": "execute_result"
    }
   ],
   "source": [
    "int(\"25\")"
   ]
  },
  {
   "cell_type": "markdown",
   "metadata": {},
   "source": [
    "pero aunque sabemos que 'a' se corresponde con un valor entero en ASCII, esto no lo admite el comando `int` y devuelve un error"
   ]
  },
  {
   "cell_type": "code",
   "execution_count": 7,
   "metadata": {},
   "outputs": [
    {
     "ename": "ValueError",
     "evalue": "invalid literal for int() with base 10: 'a'",
     "output_type": "error",
     "traceback": [
      "\u001b[0;31m---------------------------------------------------------------------------\u001b[0m",
      "\u001b[0;31mValueError\u001b[0m                                Traceback (most recent call last)",
      "\u001b[0;32m<ipython-input-7-233884bacd4e>\u001b[0m in \u001b[0;36m<module>\u001b[0;34m\u001b[0m\n\u001b[0;32m----> 1\u001b[0;31m \u001b[0mint\u001b[0m\u001b[0;34m(\u001b[0m\u001b[0;34m'a'\u001b[0m\u001b[0;34m)\u001b[0m\u001b[0;34m\u001b[0m\u001b[0;34m\u001b[0m\u001b[0m\n\u001b[0m",
      "\u001b[0;31mValueError\u001b[0m: invalid literal for int() with base 10: 'a'"
     ]
    }
   ],
   "source": [
    "int('a')"
   ]
  },
  {
   "cell_type": "code",
   "execution_count": 9,
   "metadata": {},
   "outputs": [
    {
     "data": {
      "text/plain": [
       "1"
      ]
     },
     "execution_count": 9,
     "metadata": {},
     "output_type": "execute_result"
    }
   ],
   "source": [
    "int(True)"
   ]
  },
  {
   "cell_type": "markdown",
   "metadata": {},
   "source": [
    "## Otros números: `float` y `complex`\n",
    "\n",
    "Existen otros dos tipos: `float`, que se corresponden a los números decimales; y los `complex`, que son los números complejos."
   ]
  },
  {
   "cell_type": "markdown",
   "metadata": {},
   "source": [
    "Los `float` son exactamente una transposición de los `double float` de cualquier lenguaje de programación más o menos conocido. Es decir, son los números decimales, pero sin límites."
   ]
  },
  {
   "cell_type": "code",
   "execution_count": 14,
   "metadata": {},
   "outputs": [
    {
     "data": {
      "text/plain": [
       "7.643742957409046e+242"
      ]
     },
     "execution_count": 14,
     "metadata": {},
     "output_type": "execute_result"
    }
   ],
   "source": [
    "((((((2.5**2.5)**2.5)**2.5)**2.5)**2.5)**2.5)**2.5"
   ]
  },
  {
   "cell_type": "markdown",
   "metadata": {},
   "source": [
    "Para diferenciar un número entero de uno decimal, cuando son iguales, se debe poner la coma decimal `.`. Por ejemplo, para Python si escribimos `5` reconocerá en él un entero `int`; si en cambio escribimos `5.0` o más brevemente `5.`, entenderá que estamos ante un número decimal `float`."
   ]
  },
  {
   "cell_type": "code",
   "execution_count": 15,
   "metadata": {},
   "outputs": [
    {
     "data": {
      "text/plain": [
       "int"
      ]
     },
     "execution_count": 15,
     "metadata": {},
     "output_type": "execute_result"
    }
   ],
   "source": [
    "type(5)"
   ]
  },
  {
   "cell_type": "code",
   "execution_count": 16,
   "metadata": {},
   "outputs": [
    {
     "data": {
      "text/plain": [
       "float"
      ]
     },
     "execution_count": 16,
     "metadata": {},
     "output_type": "execute_result"
    }
   ],
   "source": [
    "type(5.)"
   ]
  },
  {
   "cell_type": "markdown",
   "metadata": {},
   "source": [
    "Los números complejos, `complex` para Python, se introducen usando `j` como $\\sqrt{-1}$. "
   ]
  },
  {
   "cell_type": "code",
   "execution_count": 10,
   "metadata": {},
   "outputs": [
    {
     "data": {
      "text/plain": [
       "complex"
      ]
     },
     "execution_count": 10,
     "metadata": {},
     "output_type": "execute_result"
    }
   ],
   "source": [
    "type(3+2j)"
   ]
  },
  {
   "cell_type": "markdown",
   "metadata": {},
   "source": [
    "Sin embargo, hay que tener cuidado: `1+j` no es $1+\\sqrt{-1}$; para escribir este número debemos escribir `1+1j`."
   ]
  },
  {
   "cell_type": "code",
   "execution_count": 11,
   "metadata": {},
   "outputs": [
    {
     "ename": "NameError",
     "evalue": "name 'j' is not defined",
     "output_type": "error",
     "traceback": [
      "\u001b[0;31m---------------------------------------------------------------------------\u001b[0m",
      "\u001b[0;31mNameError\u001b[0m                                 Traceback (most recent call last)",
      "\u001b[0;32m<ipython-input-11-914f1b44060c>\u001b[0m in \u001b[0;36m<module>\u001b[0;34m\u001b[0m\n\u001b[0;32m----> 1\u001b[0;31m \u001b[0;36m1\u001b[0m\u001b[0;34m+\u001b[0m\u001b[0mj\u001b[0m\u001b[0;34m\u001b[0m\u001b[0;34m\u001b[0m\u001b[0m\n\u001b[0m",
      "\u001b[0;31mNameError\u001b[0m: name 'j' is not defined"
     ]
    }
   ],
   "source": [
    "1+j"
   ]
  },
  {
   "cell_type": "code",
   "execution_count": 12,
   "metadata": {},
   "outputs": [
    {
     "data": {
      "text/plain": [
       "(1+1j)"
      ]
     },
     "execution_count": 12,
     "metadata": {},
     "output_type": "execute_result"
    }
   ],
   "source": [
    "1+1j"
   ]
  },
  {
   "cell_type": "markdown",
   "metadata": {},
   "source": [
    "Por supuesto, podemos usar todo tipo de operaciones (menos `%`) para realizar las operaciones"
   ]
  },
  {
   "cell_type": "code",
   "execution_count": 13,
   "metadata": {},
   "outputs": [
    {
     "data": {
      "text/plain": [
       "(0.8+1.4j)"
      ]
     },
     "execution_count": 13,
     "metadata": {},
     "output_type": "execute_result"
    }
   ],
   "source": [
    "(3+2j)/(2-1j)"
   ]
  },
  {
   "cell_type": "code",
   "execution_count": 14,
   "metadata": {},
   "outputs": [
    {
     "data": {
      "text/plain": [
       "(2.8078792972606292+1.3178651729011808j)"
      ]
     },
     "execution_count": 14,
     "metadata": {},
     "output_type": "execute_result"
    }
   ],
   "source": [
    "(1+1j)**(1-1j)"
   ]
  },
  {
   "cell_type": "markdown",
   "metadata": {},
   "source": [
    "## `char` y `string`\n",
    "\n",
    "El tipo `char` con caracteres y, en realidad, están incluidas dentro de las cadenas de caracteres `string`.\n",
    "\n",
    "Las cadenas de caracteres, como ya hemos visto antes, se definen colocando el valor entre dobles comillas `\"` o comillas simples `'`. "
   ]
  },
  {
   "cell_type": "code",
   "execution_count": 3,
   "metadata": {},
   "outputs": [
    {
     "data": {
      "text/plain": [
       "str"
      ]
     },
     "execution_count": 3,
     "metadata": {},
     "output_type": "execute_result"
    }
   ],
   "source": [
    "type(\"Hola\")"
   ]
  },
  {
   "cell_type": "code",
   "execution_count": 5,
   "metadata": {},
   "outputs": [
    {
     "data": {
      "text/plain": [
       "str"
      ]
     },
     "execution_count": 5,
     "metadata": {},
     "output_type": "execute_result"
    }
   ],
   "source": [
    "type('Hola')"
   ]
  },
  {
   "cell_type": "markdown",
   "metadata": {},
   "source": [
    "Estas cadenas de caracteres pueden ser los valores de una variable."
   ]
  },
  {
   "cell_type": "code",
   "execution_count": 15,
   "metadata": {},
   "outputs": [],
   "source": [
    "nombre = \"Jonathan\""
   ]
  },
  {
   "cell_type": "code",
   "execution_count": 16,
   "metadata": {},
   "outputs": [
    {
     "name": "stdout",
     "output_type": "stream",
     "text": [
      "Jonathan\n"
     ]
    }
   ],
   "source": [
    "print(nombre)"
   ]
  },
  {
   "cell_type": "markdown",
   "metadata": {},
   "source": [
    "Las cadenas de caracteres tienen operaciones entre sí. De hecho, lo veremos más adelante, se comportan muy similar a las listas."
   ]
  },
  {
   "cell_type": "code",
   "execution_count": 17,
   "metadata": {},
   "outputs": [],
   "source": [
    "apellido1 = \" Sánchez\"\n",
    "apellido2 = \" Hernández\""
   ]
  },
  {
   "cell_type": "markdown",
   "metadata": {},
   "source": [
    "Por ejemplo, la suma de las cadenas de caracteres corresponde a la unión:"
   ]
  },
  {
   "cell_type": "code",
   "execution_count": 18,
   "metadata": {},
   "outputs": [],
   "source": [
    "autor = nombre + apellido1 + apellido2 # suma"
   ]
  },
  {
   "cell_type": "code",
   "execution_count": 19,
   "metadata": {},
   "outputs": [
    {
     "name": "stdout",
     "output_type": "stream",
     "text": [
      "Jonathan Sánchez Hernández\n"
     ]
    }
   ],
   "source": [
    "print(autor)"
   ]
  },
  {
   "cell_type": "code",
   "execution_count": 20,
   "metadata": {},
   "outputs": [
    {
     "data": {
      "text/plain": [
       "'Jonathan Sánchez Hernández'"
      ]
     },
     "execution_count": 20,
     "metadata": {},
     "output_type": "execute_result"
    }
   ],
   "source": [
    "\"Jonathan\" \" Sánchez\" \" Hernández\""
   ]
  },
  {
   "cell_type": "code",
   "execution_count": 22,
   "metadata": {},
   "outputs": [
    {
     "ename": "SyntaxError",
     "evalue": "invalid syntax (<ipython-input-22-8c4d86556fe4>, line 1)",
     "output_type": "error",
     "traceback": [
      "\u001b[0;36m  File \u001b[0;32m\"<ipython-input-22-8c4d86556fe4>\"\u001b[0;36m, line \u001b[0;32m1\u001b[0m\n\u001b[0;31m    nombre \" Sánchez\"\u001b[0m\n\u001b[0m           ^\u001b[0m\n\u001b[0;31mSyntaxError\u001b[0m\u001b[0;31m:\u001b[0m invalid syntax\n"
     ]
    }
   ],
   "source": [
    "nombre \" Sánchez\""
   ]
  },
  {
   "cell_type": "markdown",
   "metadata": {},
   "source": [
    "Las cadenas vacías al convertirlas en booleanos dan `False`, y las cadenas no vacías dan `True`."
   ]
  },
  {
   "cell_type": "code",
   "execution_count": 30,
   "metadata": {},
   "outputs": [
    {
     "data": {
      "text/plain": [
       "False"
      ]
     },
     "execution_count": 30,
     "metadata": {},
     "output_type": "execute_result"
    }
   ],
   "source": [
    "bool(\"\")"
   ]
  },
  {
   "cell_type": "code",
   "execution_count": 31,
   "metadata": {},
   "outputs": [
    {
     "data": {
      "text/plain": [
       "True"
      ]
     },
     "execution_count": 31,
     "metadata": {},
     "output_type": "execute_result"
    }
   ],
   "source": [
    "bool(autor)"
   ]
  },
  {
   "cell_type": "markdown",
   "metadata": {},
   "source": [
    "Una operación bastante común es hallar la longitud _(length)_ de la cadena de caracteres:"
   ]
  },
  {
   "cell_type": "code",
   "execution_count": 23,
   "metadata": {},
   "outputs": [
    {
     "data": {
      "text/plain": [
       "26"
      ]
     },
     "execution_count": 23,
     "metadata": {},
     "output_type": "execute_result"
    }
   ],
   "source": [
    "len(autor) # calculo la longitud de mi nombre"
   ]
  },
  {
   "cell_type": "markdown",
   "metadata": {},
   "source": [
    "Otra operación interesante es conocer el número de veces que ocurre un carácter o una subcadena:"
   ]
  },
  {
   "cell_type": "code",
   "execution_count": 24,
   "metadata": {},
   "outputs": [
    {
     "data": {
      "text/plain": [
       "3"
      ]
     },
     "execution_count": 24,
     "metadata": {},
     "output_type": "execute_result"
    }
   ],
   "source": [
    "autor.count(\"e\")"
   ]
  },
  {
   "cell_type": "code",
   "execution_count": 25,
   "metadata": {},
   "outputs": [
    {
     "data": {
      "text/plain": [
       "2"
      ]
     },
     "execution_count": 25,
     "metadata": {},
     "output_type": "execute_result"
    }
   ],
   "source": [
    "autor.count(\"án\")"
   ]
  },
  {
   "cell_type": "markdown",
   "metadata": {},
   "source": [
    "También podemos romper la cadena en palabras simples con `split()`: lo que obtendríamos es una _colección_ de cadenas (pronto veremos de qué tipo de colección estamos hablando)"
   ]
  },
  {
   "cell_type": "code",
   "execution_count": 26,
   "metadata": {},
   "outputs": [
    {
     "data": {
      "text/plain": [
       "['Jonathan', 'Sánchez', 'Hernández']"
      ]
     },
     "execution_count": 26,
     "metadata": {},
     "output_type": "execute_result"
    }
   ],
   "source": [
    "autor.split(\" \")"
   ]
  },
  {
   "cell_type": "code",
   "execution_count": 27,
   "metadata": {},
   "outputs": [
    {
     "data": {
      "text/plain": [
       "['Jonathan Sánch', 'z H', 'rnánd', 'z']"
      ]
     },
     "execution_count": 27,
     "metadata": {},
     "output_type": "execute_result"
    }
   ],
   "source": [
    "autor.split('e')"
   ]
  },
  {
   "cell_type": "markdown",
   "metadata": {},
   "source": [
    "### subcadenas\n",
    "\n",
    "Algo importante en las cadenas es trabajar con subcadenas. Tanto las cadenas como muchos otros tipos (v.g., las listas) comparten en esta situación una sintaxis muy similar."
   ]
  },
  {
   "cell_type": "markdown",
   "metadata": {},
   "source": [
    "\n",
    "\n",
    "\n",
    "\n",
    "\n",
    "\n",
    "\n",
    "\n",
    "\n",
    "\n",
    "\n",
    "\n",
    "\n",
    "\n",
    "\n",
    "\n",
    "\n",
    "\n",
    "\n",
    "\n",
    "\n",
    "\n",
    "\n",
    "\n",
    "\n",
    "\n",
    "\n",
    "\n",
    "\n",
    "\n",
    "\n",
    "\n",
    "\n",
    "\n",
    "\n",
    "\n",
    "\n",
    "\n",
    "\n",
    "\n",
    "\n",
    "\n",
    "\n",
    "\n",
    "\n",
    "\n",
    "\n",
    "\n",
    "\n",
    "\n",
    "\n",
    "\n",
    "\n",
    "\n",
    "\n",
    "\n",
    "\n",
    "\n",
    "\n",
    "\n",
    "\n",
    "\n",
    "\n",
    "\n",
    "\n",
    "\n",
    "\n",
    "\n",
    "\n",
    "\n",
    "\n",
    "\n",
    "\n",
    "\n",
    "\n",
    "\n",
    "\n",
    "\n",
    "\n",
    "\n",
    "\n",
    "\n",
    "\n",
    "\n",
    "\n",
    "\n",
    "\n",
    "\n",
    "\n",
    "\n",
    "\n",
    "\n",
    "\n",
    "\n",
    "\n",
    "\n",
    "\n",
    "\n",
    "\n",
    "\n",
    "\n",
    "\n",
    "\n",
    "\n",
    "\n",
    "\n",
    "\n",
    "\n",
    "\n",
    "\n",
    "\n",
    "\n",
    "\n",
    "\n",
    "\n",
    "\n",
    "\n",
    "\n",
    "\n",
    "\n",
    "\n",
    "\n",
    "\n",
    "\n",
    "\n",
    "\n",
    "\n",
    "\n",
    "\n",
    "\n",
    "\n",
    "\n",
    "\n",
    "\n",
    "\n",
    "\n",
    "\n",
    "\n",
    "\n",
    "\n",
    "\n",
    "\n",
    "\n",
    "\n",
    "\n",
    "\n",
    "\n",
    "\n",
    "\n",
    "\n",
    "\n",
    "\n",
    "\n",
    "\n",
    "\n",
    "\n",
    "\n",
    "\n",
    "\n",
    "\n",
    "\n",
    "\n",
    "\n",
    "\n",
    "\n",
    "\n",
    "\n",
    "\n",
    "\n",
    "\n",
    "\n",
    "\n",
    "\n",
    "\n",
    "\n",
    "\n",
    "\n",
    "\n",
    "\n",
    "\n",
    "\n",
    "\n",
    "\n",
    "\n",
    "\n",
    "\n",
    "\n",
    "\n",
    "\n",
    "\n",
    "\n",
    "\n",
    "\n",
    "\n",
    "\n",
    "\n",
    "\n",
    "\n",
    "\n",
    "\n",
    "\n",
    "\n",
    "\n",
    "\n",
    "\n",
    "\n",
    "\n",
    "\n",
    "\n",
    "\n",
    "\n",
    "\n",
    "\n",
    "\n",
    "\n",
    "\n",
    "\n",
    "\n",
    "\n",
    "\n",
    "\n",
    "\n",
    "\n",
    "\n",
    "\n",
    "\n",
    "Para obtener una posición en concreto, debemos escribir entre corchetes la posición que queremos: Por ejemplo, para la posición 8, debemos escribir"
   ]
  },
  {
   "cell_type": "code",
   "execution_count": 28,
   "metadata": {},
   "outputs": [
    {
     "data": {
      "text/plain": [
       "' '"
      ]
     },
     "execution_count": 28,
     "metadata": {},
     "output_type": "execute_result"
    }
   ],
   "source": [
    "autor[8]"
   ]
  },
  {
   "cell_type": "markdown",
   "metadata": {},
   "source": [
    "¡Un momento! Vamos a contar letras: si la palabra 'Jonathan' tiene 8 letras, la octava posición correspondería a la 'n' y no al espacio que hay después. ¿Qué es lo que ocurre? Bueno, pues aquí empieza una de las rarezas de Python: **todos los índices comienzan en 0.** Por ejemplo, la letra 'J' está en la posición 0-ésima."
   ]
  },
  {
   "cell_type": "code",
   "execution_count": 32,
   "metadata": {},
   "outputs": [
    {
     "data": {
      "text/plain": [
       "'J'"
      ]
     },
     "execution_count": 32,
     "metadata": {},
     "output_type": "execute_result"
    }
   ],
   "source": [
    "autor[0]"
   ]
  },
  {
   "cell_type": "markdown",
   "metadata": {},
   "source": [
    "Es posible usar índices negativos: estos recorren _al revés_ la cadena, de modo que la posición $-1$ se corresponde con el último carácter de la cadena."
   ]
  },
  {
   "cell_type": "code",
   "execution_count": 33,
   "metadata": {},
   "outputs": [
    {
     "data": {
      "text/plain": [
       "'z'"
      ]
     },
     "execution_count": 33,
     "metadata": {},
     "output_type": "execute_result"
    }
   ],
   "source": [
    "autor[-1]"
   ]
  },
  {
   "cell_type": "markdown",
   "metadata": {},
   "source": [
    "Por supuesto, a mayor valor negativo, más a la izquierda estaremos del último carácter."
   ]
  },
  {
   "cell_type": "code",
   "execution_count": 34,
   "metadata": {},
   "outputs": [
    {
     "data": {
      "text/plain": [
       "' '"
      ]
     },
     "execution_count": 34,
     "metadata": {},
     "output_type": "execute_result"
    }
   ],
   "source": [
    "autor[-10]"
   ]
  },
  {
   "cell_type": "markdown",
   "metadata": {},
   "source": [
    "Para hallar la **subcadena de caracteres** desde la posición 9 hasta la posición 15, escribimos "
   ]
  },
  {
   "cell_type": "code",
   "execution_count": 35,
   "metadata": {},
   "outputs": [
    {
     "data": {
      "text/plain": [
       "'Sánchez'"
      ]
     },
     "execution_count": 35,
     "metadata": {},
     "output_type": "execute_result"
    }
   ],
   "source": [
    "autor[9:16]"
   ]
  },
  {
   "cell_type": "markdown",
   "metadata": {},
   "source": [
    "Aquí está el segundo detalle que debemos mencionar: hemos tenido que colocar 16 en lugar de 15 para que llegue hasta el 15. \n",
    "\n",
    "**Las dos mencionadas particularidades se tienen que tener presente siempre**"
   ]
  },
  {
   "cell_type": "markdown",
   "metadata": {},
   "source": [
    "Podemos usar términos negativos para referirnos a la cadena:"
   ]
  },
  {
   "cell_type": "code",
   "execution_count": 48,
   "metadata": {},
   "outputs": [
    {
     "data": {
      "text/plain": [
       "'Sánchez'"
      ]
     },
     "execution_count": 48,
     "metadata": {},
     "output_type": "execute_result"
    }
   ],
   "source": [
    "autor[9:-10]"
   ]
  },
  {
   "cell_type": "markdown",
   "metadata": {},
   "source": [
    "De nuevo, no se incluye la posición -10 en nuestra subcadena."
   ]
  },
  {
   "cell_type": "markdown",
   "metadata": {},
   "source": [
    "Si queremos recorrer de la 9ª posición en adelante, deberemos escribir"
   ]
  },
  {
   "cell_type": "code",
   "execution_count": 38,
   "metadata": {},
   "outputs": [
    {
     "data": {
      "text/plain": [
       "'Sánchez Hernández'"
      ]
     },
     "execution_count": 38,
     "metadata": {},
     "output_type": "execute_result"
    }
   ],
   "source": [
    "autor[9:]"
   ]
  },
  {
   "cell_type": "markdown",
   "metadata": {},
   "source": [
    "De igual manera podemos hasta la 16 _sin incluir la posición 16_"
   ]
  },
  {
   "cell_type": "code",
   "execution_count": 39,
   "metadata": {},
   "outputs": [
    {
     "data": {
      "text/plain": [
       "'Jonathan Sánchez'"
      ]
     },
     "execution_count": 39,
     "metadata": {},
     "output_type": "execute_result"
    }
   ],
   "source": [
    "autor[:16]"
   ]
  },
  {
   "cell_type": "markdown",
   "metadata": {},
   "source": [
    "Si queremos recorrer _de dos en dos_ la cadena, desde una posición a otra, usaremos la siguiente sintaxis"
   ]
  },
  {
   "cell_type": "code",
   "execution_count": 51,
   "metadata": {},
   "outputs": [
    {
     "data": {
      "text/plain": [
       "'Snhz'"
      ]
     },
     "execution_count": 51,
     "metadata": {},
     "output_type": "execute_result"
    }
   ],
   "source": [
    "autor[9:16:2]"
   ]
  },
  {
   "cell_type": "markdown",
   "metadata": {},
   "source": [
    "Incluso podemos usar esta sintaxis para movernos al revés:"
   ]
  },
  {
   "cell_type": "code",
   "execution_count": 52,
   "metadata": {},
   "outputs": [
    {
     "data": {
      "text/plain": [
       "'zednánreH zehcnáS nahtanoJ'"
      ]
     },
     "execution_count": 52,
     "metadata": {},
     "output_type": "execute_result"
    }
   ],
   "source": [
    "autor[::-1]"
   ]
  },
  {
   "cell_type": "markdown",
   "metadata": {},
   "source": [
    "## Listas\n",
    "\n",
    "Comencemos ahora con uno de los tipos más importantes: *Las listas,* conocidas como `list`.\n",
    "\n",
    "Una lista es una _colección de objetos._ Normalmente en un lenguaje de programación fuertemente tipado como C o C++, esta colección de objetos se restringe a _colección de objetos de un mismo tipo._ Sin embargo, en Python no es así: puedes meter en una misma lista todo tipo de objetos. Pero cualquiera que se te ocurra (siempre y cuando sea un tipo conocido por Python). \n",
    "\n",
    "La sintaxis de una lista es como sigue: se pone entre corchetes sus elementos, que se separan en comas, como por ejemplo"
   ]
  },
  {
   "cell_type": "code",
   "execution_count": 39,
   "metadata": {},
   "outputs": [
    {
     "data": {
      "text/plain": [
       "['Patatas', 1, True]"
      ]
     },
     "execution_count": 39,
     "metadata": {},
     "output_type": "execute_result"
    }
   ],
   "source": [
    "['Patatas', 1, True] # Una lista un poco extraña..."
   ]
  },
  {
   "cell_type": "markdown",
   "metadata": {},
   "source": [
    "Las listas pueden incluir dentro otras listas"
   ]
  },
  {
   "cell_type": "code",
   "execution_count": 41,
   "metadata": {},
   "outputs": [
    {
     "name": "stdout",
     "output_type": "stream",
     "text": [
      "[[1, 2], [3, 4]]\n"
     ]
    }
   ],
   "source": [
    "A = [[1,2],[3,4]]\n",
    "print(A)"
   ]
  },
  {
   "cell_type": "markdown",
   "metadata": {},
   "source": [
    "Parece una matriz, ¿verdad? Pues en realidad no. Vamos a tardar un tiempo en ver una matriz.\n",
    "\n",
    "Para acceder a sus elementos se siguen la misma sintaxis que en un `string` (a fin de cuentas, un `string` no es más que es una lista de caracteres...), tienendo siempre en cuenta que los índices comienzan en 0."
   ]
  },
  {
   "cell_type": "code",
   "execution_count": 42,
   "metadata": {},
   "outputs": [
    {
     "name": "stdout",
     "output_type": "stream",
     "text": [
      "Ojo, que este no es el primer primo: 3\n",
      "El último de los primos 47\n",
      "Una colección de primos [11, 13, 17, 19, 23, 29, 31]\n",
      "Una subcolección de primos en orden inverso: [47, 41, 31, 23, 17, 11, 5, 2]\n"
     ]
    }
   ],
   "source": [
    "primos = [2,3,5,7,11,13,17,19,23,29,31,37,41,43,47]\n",
    "print(\"Ojo, que este no es el primer primo:\",primos[1])\n",
    "print(\"El último de los primos\",primos[-1])\n",
    "print(\"Una colección de primos\",primos[4:-4])\n",
    "print(\"Una subcolección de primos en orden inverso:\",primos[::-2])"
   ]
  },
  {
   "cell_type": "markdown",
   "metadata": {},
   "source": [
    "Existen operaciones como concatenar listas que, como en las cadenas de caracteres, se hace con la suma `+`"
   ]
  },
  {
   "cell_type": "code",
   "execution_count": 51,
   "metadata": {},
   "outputs": [
    {
     "data": {
      "text/plain": [
       "[2, 3, 5, 7, 11, 13, 17, 19, 23, 29, 31, 37, 41, 43, 47, [1, 2], [3, 4]]"
      ]
     },
     "execution_count": 51,
     "metadata": {},
     "output_type": "execute_result"
    }
   ],
   "source": [
    "primos + A"
   ]
  },
  {
   "cell_type": "markdown",
   "metadata": {},
   "source": [
    "También podemos repetir muchas veces los elementos de una lista usando `*`"
   ]
  },
  {
   "cell_type": "code",
   "execution_count": 52,
   "metadata": {},
   "outputs": [
    {
     "data": {
      "text/plain": [
       "[4, 4, 4]"
      ]
     },
     "execution_count": 52,
     "metadata": {},
     "output_type": "execute_result"
    }
   ],
   "source": [
    "[4]*3"
   ]
  },
  {
   "cell_type": "code",
   "execution_count": 44,
   "metadata": {},
   "outputs": [
    {
     "data": {
      "text/plain": [
       "[2, 3, 2, 3, 2, 3, 2, 3, 2, 3]"
      ]
     },
     "execution_count": 44,
     "metadata": {},
     "output_type": "execute_result"
    }
   ],
   "source": [
    "[2,3]*5"
   ]
  },
  {
   "cell_type": "markdown",
   "metadata": {},
   "source": [
    "### Modificación de una lista\n",
    "\n",
    "Otras operaciones básicas respecto a sus elementos respecto a la modificación de la lista son las siguientes:\n",
    "\n",
    "1. Se puede **modificar un elemento** de una lista (a diferencia de otras estructuras que veremos) `primos[-1]=49` (no, en efecto, 49 no es un número primo)\n",
    "2. Se puede **insertar un elemento** de una lista: `primos.insert(0,\"Lista de los primeros primos\")` (insertamos la cadena \"Lista de...\" en la posición 0)\n",
    "3. También se puede **insertar varios elementos** a una lista: `primos[4:4] = [8,9,10]` inserta entre la posición 3 y la 4 los elementos de la lista `[8,9,10]`. Ahora `primos[4:7]` será la sublista `[8,9,10]`.\n",
    "4. Podemos **añadir un elemento** a la lista al final de la misma: `primos.append(47)` añade como último elemento el 47.\n",
    "4. Podemos **borrar uno o varios elementos** de la lista: `del primos[4:7]` borraremos esta lista\n",
    "5. **Eliminar por completo** una lista: `del A` borraremos la lista `A` en el sentido de que _deja de ser una variable._\n",
    "6. **Eliminar un elemento** de la lista: `primos.remove(49)` eliminará la entrada 49 _(no la posición 49)_ de la lista. (¡por fin se va!)\n",
    "7. **Vaciar toda la lista** es posible usando `primos.clear()`."
   ]
  },
  {
   "cell_type": "code",
   "execution_count": 45,
   "metadata": {},
   "outputs": [
    {
     "name": "stdout",
     "output_type": "stream",
     "text": [
      "Hemos modificado el último elemento: [2, 3, 5, 7, 11, 13, 17, 19, 23, 29, 31, 37, 41, 43, 49]\n"
     ]
    }
   ],
   "source": [
    "primos[-1]=49\n",
    "print(\"Hemos modificado el último elemento:\",primos)"
   ]
  },
  {
   "cell_type": "code",
   "execution_count": 46,
   "metadata": {},
   "outputs": [
    {
     "name": "stdout",
     "output_type": "stream",
     "text": [
      "Con el comando insert le hemos añadido un 'titulo' a nuestra lista de primos:  ['Lista de los primeros números primos', 2, 3, 5, 7, 11, 13, 17, 19, 23, 29, 31, 37, 41, 43, 49]\n"
     ]
    }
   ],
   "source": [
    "primos.insert(0,\"Lista de los primeros números primos\")\n",
    "print(\"Con el comando insert le hemos añadido un 'titulo' a nuestra lista de primos: \",primos)"
   ]
  },
  {
   "cell_type": "code",
   "execution_count": 47,
   "metadata": {},
   "outputs": [
    {
     "name": "stdout",
     "output_type": "stream",
     "text": [
      "Al añadir entre la posición 3 y la 4 los números 8, 9 y 10 ['Lista de los primeros números primos', 2, 3, 5, 8, 9, 10, 7, 11, 13, 17, 19, 23, 29, 31, 37, 41, 43, 49]\n"
     ]
    }
   ],
   "source": [
    "primos[4:4] = [8,9,10] \n",
    "print(\"Al añadir entre la posición 3 y la 4 los números 8, 9 y 10\",primos)"
   ]
  },
  {
   "cell_type": "code",
   "execution_count": 48,
   "metadata": {},
   "outputs": [
    {
     "name": "stdout",
     "output_type": "stream",
     "text": [
      "Añadimos un elemento más al final de la lista ['Lista de los primeros números primos', 2, 3, 5, 8, 9, 10, 7, 11, 13, 17, 19, 23, 29, 31, 37, 41, 43, 49, 47]\n"
     ]
    }
   ],
   "source": [
    "primos.append(47)\n",
    "print(\"Añadimos un elemento más al final de la lista\",primos)"
   ]
  },
  {
   "cell_type": "code",
   "execution_count": 50,
   "metadata": {},
   "outputs": [
    {
     "name": "stdout",
     "output_type": "stream",
     "text": [
      "Hemos borrado los elementos añadidos anteriormente ['Lista de los primeros números primos', 2, 3, 5, 7, 11, 13, 17, 19, 23, 29, 31, 37, 41, 43, 49, 47]\n"
     ]
    }
   ],
   "source": [
    "del primos[4:7]\n",
    "print(\"Hemos borrado los elementos añadidos anteriormente\", primos)"
   ]
  },
  {
   "cell_type": "code",
   "execution_count": 49,
   "metadata": {},
   "outputs": [
    {
     "ename": "NameError",
     "evalue": "name 'A' is not defined",
     "output_type": "error",
     "traceback": [
      "\u001b[0;31m---------------------------------------------------------------------------\u001b[0m",
      "\u001b[0;31mNameError\u001b[0m                                 Traceback (most recent call last)",
      "\u001b[0;32m<ipython-input-49-fc4ed7d4082b>\u001b[0m in \u001b[0;36m<module>\u001b[0;34m\u001b[0m\n\u001b[1;32m      1\u001b[0m \u001b[0;32mdel\u001b[0m \u001b[0mA\u001b[0m\u001b[0;34m\u001b[0m\u001b[0;34m\u001b[0m\u001b[0m\n\u001b[0;32m----> 2\u001b[0;31m \u001b[0mprint\u001b[0m\u001b[0;34m(\u001b[0m\u001b[0mA\u001b[0m\u001b[0;34m)\u001b[0m \u001b[0;31m# Aquí me da un error porque he borrado esta variable\u001b[0m\u001b[0;34m\u001b[0m\u001b[0;34m\u001b[0m\u001b[0m\n\u001b[0m",
      "\u001b[0;31mNameError\u001b[0m: name 'A' is not defined"
     ]
    }
   ],
   "source": [
    "del A\n",
    "print(A) # Aquí me da un error porque he borrado esta variable"
   ]
  },
  {
   "cell_type": "code",
   "execution_count": 51,
   "metadata": {},
   "outputs": [
    {
     "name": "stdout",
     "output_type": "stream",
     "text": [
      "Borramos el 49 de la lista (¡sí, por favor!) ['Lista de los primeros números primos', 2, 3, 5, 7, 11, 13, 17, 19, 23, 29, 31, 37, 41, 43, 47]\n"
     ]
    }
   ],
   "source": [
    "primos.remove(49)\n",
    "print(\"Borramos el 49 de la lista (¡sí, por favor!)\", primos)"
   ]
  },
  {
   "cell_type": "code",
   "execution_count": 52,
   "metadata": {},
   "outputs": [
    {
     "name": "stdout",
     "output_type": "stream",
     "text": [
      "Borramos la lista completa y la dejamos vacía []\n"
     ]
    }
   ],
   "source": [
    "primos.clear()\n",
    "print(\"Borramos la lista completa y la dejamos vacía\", primos)"
   ]
  },
  {
   "cell_type": "markdown",
   "metadata": {},
   "source": [
    "### Otras funciones útiles\n",
    "\n",
    "Existen otras funciones útiles que podemos usar y que conviene conocer. \n",
    "\n",
    "1. **Contar el número de elementos de una lista**. Para ello, usamos `len(milista)`.\n",
    "2. **Contar cuántas veces aparece un elemento en la lista**. Usamos `milista.count(17)` para saber cuántas veces el 17 aparece.\n",
    "3. **Obtener el primer índice donde aparece cierto elemento**. Usamos `milista.index(17)` para saber cuál es el índice donde aparece el 17.\n",
    "4. **Invertir el orden** de una lista es posible con `milista.reverse()`.\n",
    "5. **Ordenar una lista** es fácil con `milista.sort()`.\n",
    "\n",
    "Otra función útil es la de **membresía**, decidir cuándo un elemento está o no está en la lista de manera rápida. A diferencia de C o C++, lenguajes de bajo nivel, en Python no tenemos más que escribir `17 in milista` para ver si el entero `17` está en `milista` o no: el valor que devuelve es un booleano, es decir, los posibles valores de esta expresión son `True` o `False`."
   ]
  },
  {
   "cell_type": "code",
   "execution_count": 64,
   "metadata": {},
   "outputs": [
    {
     "name": "stdout",
     "output_type": "stream",
     "text": [
      "['3', '1', '4', '1', '5', '9', '2', '6', '5', '3', '5', '8', '9', '7', '9', '3']\n"
     ]
    },
    {
     "data": {
      "text/plain": [
       "3"
      ]
     },
     "execution_count": 64,
     "metadata": {},
     "output_type": "execute_result"
    }
   ],
   "source": [
    "from math import pi\n",
    "milista=list(str(pi))\n",
    "milista.remove('.')\n",
    "print(milista)\n",
    "milista.count('9')"
   ]
  },
  {
   "cell_type": "code",
   "execution_count": 65,
   "metadata": {},
   "outputs": [
    {
     "data": {
      "text/plain": [
       "5"
      ]
     },
     "execution_count": 65,
     "metadata": {},
     "output_type": "execute_result"
    }
   ],
   "source": [
    "milista.index('9')"
   ]
  },
  {
   "cell_type": "code",
   "execution_count": 67,
   "metadata": {},
   "outputs": [
    {
     "name": "stdout",
     "output_type": "stream",
     "text": [
      "['1', '1', '2', '3', '3', '3', '4', '5', '5', '5', '6', '7', '8', '9', '9', '9']\n"
     ]
    }
   ],
   "source": [
    "milista.sort()\n",
    "print(milista)"
   ]
  },
  {
   "cell_type": "code",
   "execution_count": 68,
   "metadata": {},
   "outputs": [
    {
     "data": {
      "text/plain": [
       "False"
      ]
     },
     "execution_count": 68,
     "metadata": {},
     "output_type": "execute_result"
    }
   ],
   "source": [
    "'0' in milista"
   ]
  },
  {
   "cell_type": "code",
   "execution_count": 69,
   "metadata": {},
   "outputs": [
    {
     "data": {
      "text/plain": [
       "True"
      ]
     },
     "execution_count": 69,
     "metadata": {},
     "output_type": "execute_result"
    }
   ],
   "source": [
    "'9' in milista"
   ]
  },
  {
   "cell_type": "markdown",
   "metadata": {},
   "source": [
    "## Tupla\n",
    "\n",
    "Las tuplas son muy similares a las listas, es decir, son una colección de objetos de cualquier tipo pero a diferencia de ellas **no se pueden modificar sus elementos**. \n",
    "\n",
    "Se usan los paréntesis para definirlos, aunque también se puede definir sin usar paréntesis, simplemente con una enumeración de objetos. Por ejemplo, `(2,3)` es una tupla formado por dos elementos, pero también puede ser una tupla `('Hola', 12, False)`. Pero sin paréntesis se puede definir así:\n",
    "***\n",
    "`mitupla = 'Hola', 12, False`\n",
    "***\n",
    "\n",
    "A la hora de definir una tupla de un sólo elemento hay que tener cuidado porque no vale con escribir `mitupla = ('Hola')` (obtendrías un `string`) sino añadiendo una coma al final: `mitupla = 'Hola',` \n"
   ]
  },
  {
   "cell_type": "code",
   "execution_count": 86,
   "metadata": {},
   "outputs": [
    {
     "data": {
      "text/plain": [
       "tuple"
      ]
     },
     "execution_count": 86,
     "metadata": {},
     "output_type": "execute_result"
    }
   ],
   "source": [
    "saludo = 'Hola',\n",
    "type(saludo)"
   ]
  },
  {
   "cell_type": "code",
   "execution_count": 87,
   "metadata": {},
   "outputs": [
    {
     "data": {
      "text/plain": [
       "str"
      ]
     },
     "execution_count": 87,
     "metadata": {},
     "output_type": "execute_result"
    }
   ],
   "source": [
    "saludo = ('Hola')\n",
    "type(saludo)"
   ]
  },
  {
   "cell_type": "markdown",
   "metadata": {},
   "source": [
    "La indexación sigue las mismas reglas que las listas."
   ]
  },
  {
   "cell_type": "code",
   "execution_count": 70,
   "metadata": {},
   "outputs": [],
   "source": [
    "primos = 2, 3, 5, 7, 11, 13, 17, 19 "
   ]
  },
  {
   "cell_type": "markdown",
   "metadata": {},
   "source": [
    "Sin embargo, **no podemos modificar sus elementos:** la modificación da un error."
   ]
  },
  {
   "cell_type": "code",
   "execution_count": 71,
   "metadata": {},
   "outputs": [
    {
     "ename": "TypeError",
     "evalue": "'tuple' object does not support item assignment",
     "output_type": "error",
     "traceback": [
      "\u001b[0;31m---------------------------------------------------------------------------\u001b[0m",
      "\u001b[0;31mTypeError\u001b[0m                                 Traceback (most recent call last)",
      "\u001b[0;32m<ipython-input-71-10dad44560ad>\u001b[0m in \u001b[0;36m<module>\u001b[0;34m\u001b[0m\n\u001b[0;32m----> 1\u001b[0;31m \u001b[0mprimos\u001b[0m\u001b[0;34m[\u001b[0m\u001b[0;36m0\u001b[0m\u001b[0;34m]\u001b[0m\u001b[0;34m=\u001b[0m\u001b[0;36m1\u001b[0m\u001b[0;34m\u001b[0m\u001b[0;34m\u001b[0m\u001b[0m\n\u001b[0m",
      "\u001b[0;31mTypeError\u001b[0m: 'tuple' object does not support item assignment"
     ]
    }
   ],
   "source": [
    "primos[0]=1"
   ]
  },
  {
   "cell_type": "markdown",
   "metadata": {},
   "source": [
    "Sí que podemos concatenarlos"
   ]
  },
  {
   "cell_type": "code",
   "execution_count": 72,
   "metadata": {},
   "outputs": [
    {
     "data": {
      "text/plain": [
       "(2, 3, 5, 7, 11, 13, 17, 19, 23, 27)"
      ]
     },
     "execution_count": 72,
     "metadata": {},
     "output_type": "execute_result"
    }
   ],
   "source": [
    "primos + (23, 27) # Concatenamos dos tuplas"
   ]
  },
  {
   "cell_type": "code",
   "execution_count": 73,
   "metadata": {},
   "outputs": [],
   "source": [
    "primos = primos + (23, 27) # Incluso modificarlos así"
   ]
  },
  {
   "cell_type": "markdown",
   "metadata": {},
   "source": [
    "Algunos métodos que podemos usar son exactamente iguales a las de las listas:\n",
    "\n",
    "1. **Contar las coincidencias:** podemos obtener el número de veces que aparece un elemento $\\to$ `primos.count(2)` devolverá el número de veces que aparece `2` en la tupla `primos`.\n",
    "2. **Índice de aparición:** Obtener en qué indice aparece por primera vez cierto elemento: `primos.index(7)` devolverá en qué posición aparece el primer `7` en la tupla `primos`.\n",
    "3. **Pertenencia:** obtener si pertenece o no un elemento a una tupla: `1 in primos` devolverá `True` o `False` dependiendo de si `1` es un elemento de la tupla `primos` o no"
   ]
  },
  {
   "cell_type": "markdown",
   "metadata": {},
   "source": [
    "## Conjuntos (`set`)\n",
    "\n",
    "Los conjuntos son listas **sin orden**. Esto es, es una colección de objetos (no tiene por que ser del mismo tipo) sin ningún orden. \n",
    "\n",
    "La sintaxis de los conjuntos son: escribir la colecció de elementos entre llaves, separados por comas:\n",
    "***\n",
    "`primos = {2, 3, 5, 7, 11, 13, 17, 19}`\n",
    "***\n",
    "o bien con el comando `set`\n",
    "***\n",
    "`primos = set(2, 3, 5, 7, 11, 13, 17, 19)`\n",
    "***\n",
    "\n",
    "_Observación:_ El ocnjunto vacío se construye con `set()` y no con `{}`"
   ]
  },
  {
   "cell_type": "code",
   "execution_count": 74,
   "metadata": {},
   "outputs": [
    {
     "data": {
      "text/plain": [
       "set"
      ]
     },
     "execution_count": 74,
     "metadata": {},
     "output_type": "execute_result"
    }
   ],
   "source": [
    "primos =  {2, 3, 5, 7, 11, 13, 17, 19}\n",
    "type(primos)"
   ]
  },
  {
   "cell_type": "markdown",
   "metadata": {},
   "source": [
    "Como no tiene orden, usar la sintaxis de las listas como por ejemplo `primos[1]` daría un error."
   ]
  },
  {
   "cell_type": "code",
   "execution_count": 75,
   "metadata": {},
   "outputs": [
    {
     "ename": "TypeError",
     "evalue": "'set' object is not subscriptable",
     "output_type": "error",
     "traceback": [
      "\u001b[0;31m---------------------------------------------------------------------------\u001b[0m",
      "\u001b[0;31mTypeError\u001b[0m                                 Traceback (most recent call last)",
      "\u001b[0;32m<ipython-input-75-8e2aa3bbf0d9>\u001b[0m in \u001b[0;36m<module>\u001b[0;34m\u001b[0m\n\u001b[0;32m----> 1\u001b[0;31m \u001b[0mprimos\u001b[0m\u001b[0;34m[\u001b[0m\u001b[0;36m1\u001b[0m\u001b[0;34m]\u001b[0m\u001b[0;34m\u001b[0m\u001b[0;34m\u001b[0m\u001b[0m\n\u001b[0m",
      "\u001b[0;31mTypeError\u001b[0m: 'set' object is not subscriptable"
     ]
    }
   ],
   "source": [
    "primos[1]"
   ]
  },
  {
   "cell_type": "code",
   "execution_count": 76,
   "metadata": {},
   "outputs": [
    {
     "data": {
      "text/plain": [
       "dict"
      ]
     },
     "execution_count": 76,
     "metadata": {},
     "output_type": "execute_result"
    }
   ],
   "source": [
    "type({}) # No es un conjunto, es un diccionario"
   ]
  },
  {
   "cell_type": "code",
   "execution_count": 77,
   "metadata": {},
   "outputs": [
    {
     "data": {
      "text/plain": [
       "set"
      ]
     },
     "execution_count": 77,
     "metadata": {},
     "output_type": "execute_result"
    }
   ],
   "source": [
    "type(set())"
   ]
  },
  {
   "cell_type": "markdown",
   "metadata": {},
   "source": [
    "Pero podemos hacer otras cosas:\n",
    "\n",
    "1. **Añadir.** \n",
    "    1. Podemos añadir un elemento usando el método `add`: `primos.add(23)` añadiría el elemento `23` al conjunto `primos`.\n",
    "    2. Podemos añadir varios elementos con el método `update`: `primos.update([23,29])` añadiría los elementos `23` y `29` al conjunto `primos`.\n",
    "2. **Eliminar.** Para eliminar un elemento usamos el método `discard`: `primos.discard(19)` eliminaría el elemento `19` del conjunto `primos`.\n",
    "3. **Borrar.** Para borrar todo el conjunto y dejar el conjunto vacío usamos el método `clear`: `primos.clear()` borraría todo el contenido de los elementos.\n",
    "4. **Sacar elemento aleatorio.** Para mostrar y eliminar un elemento random del conjunto usamos el método `pop`: `primos.pop()` mostraría un elemento aleatorio del conjunto de primos y lo eliminaría de dicho conjunto."
   ]
  },
  {
   "cell_type": "markdown",
   "metadata": {},
   "source": [
    "### Operaciones entre conjuntos\n",
    "\n",
    "Los conjuntos tienen matemáticamente una serie de operaciones estándar: unión, intersección, diferencia y diferencia simétrica. Además de las relaciones de contenido, ser disjunto, cardinal o pertenencia. Estas operaciones matemáticas también están reflejadas en Python:\n",
    "\n",
    "1. **Unión**. La unión $A\\cup B$ entre dos conjuntos `A` y `B` se escribe en Python como `A|B`, `A.union(B)` o `B.union(A)`.\n",
    "2. **Intersección.** La intersección $A\\cap B$ entre los conjuntos `A` y `B` se obtiene mediante `A&B`, `A.intersection(B)` o `B.intersection(A)`.\n",
    "3. **Diferencia.** La diferencia $A\\setminus B$ de dos conjuntos `A` y `B` se obtiene mediante `A-B`, `A.difference(B)`; $B\\setminus A$ se obtendría mediante `B-A` o `B.difference(A)`.\n",
    "4. **Diferencia simétrica.** La diferencia simétrica $A\\Delta B=(A\\cup B)\\setminus (A\\cap B)$ de dos conjuntos `A`y `B` se obtiene mediante `A^B`, o el método `A.symmetric_difference(B)` o `B.symmetric_difference(A)`.\n",
    "5. **Contenido.** \n",
    "    1. Determinar si $A\\subseteq B$ de dos conjuntos `A` y `B` se obtiene mediante `A.issubset(B)`, lo que da `True` o `False`.\n",
    "    2. En cambio, determinar si $A\\supseteq B$ se obtiene mediante el método `A.issuperset(B)`.\n",
    "6. **Pertenencia.** Para determinar si un elemento pertenece a un conjunto `A` ($x\\in A$) escribiremos `x in A`. El resultado será `True` o `False`.\n",
    "7. **Ser disjunto.** Para determinar si dos conjuntos `A` y `B` son disjuntos $A\\cap B=\\varnothing$ usamos el método `A.isdisjoint(B)`, lo que dará `True` o `False`.\n",
    "8. **Cardinal.** El cardinal de un conjunto `A` se obtiene de la misma forma que en las listas: `len(A)`.\n",
    "\n",
    "\n",
    "\n",
    "\n"
   ]
  },
  {
   "cell_type": "markdown",
   "metadata": {},
   "source": [
    "## Diccionarios (`dict`)\n",
    "\n",
    "Los diccionarios es otro tipo de lista, pero esta vez en lugar de estar indexado por los naturales 0, 1, 2, etc., está indexado por elementos arbitarios. Es decir, que puede estar indexado por cadenas de caracteres, por enteros, por números decimales, o por listas incluso. \n",
    "\n",
    "El nombre sugiere a los diccionarios, que a cada palabra se le asocia su definición. Se puede ver como que las definiciones están indexadas por las palabras que definen.\n",
    "\n",
    "Los diccionarios y los conjuntos comparten la sintaxis, que son las llaves, pero a diferencia de estos, los elementos que lo componen son duplas separadas por dos puntos `:`. Por ejemplo, el siguiente diccionario asocia a cada nombre su nota en la asignatura de Teoría de Números:\n",
    "***\n",
    "`notas = {\"José Pérez\" : 4.5, \"Andrés Martínez\" : 7.4, \"Lucas Grijander\" : 9.5, \"Lorenzo Jiménez\" : 6.3}`\n",
    "***\n",
    "De este modo, podemos obtener su nota escribiendo su nombre como si fuera su índice:\n",
    "***\n",
    "`notas[\"Lucas Grijander\"]` o también `notas.get(\"Lucas Grijander\")`\n",
    "***"
   ]
  },
  {
   "cell_type": "code",
   "execution_count": 78,
   "metadata": {},
   "outputs": [],
   "source": [
    "notas = {\"José Pérez\" : 4.5, \"Andrés Martínez\" : 7.4, \"Lucas Grijander\" : 9.5, \"Lorenzo Jiménez\" : 6.3}"
   ]
  },
  {
   "cell_type": "code",
   "execution_count": 79,
   "metadata": {},
   "outputs": [
    {
     "data": {
      "text/plain": [
       "9.5"
      ]
     },
     "execution_count": 79,
     "metadata": {},
     "output_type": "execute_result"
    }
   ],
   "source": [
    "notas[\"Lucas Grijander\"]"
   ]
  },
  {
   "cell_type": "code",
   "execution_count": 80,
   "metadata": {},
   "outputs": [
    {
     "data": {
      "text/plain": [
       "9.5"
      ]
     },
     "execution_count": 80,
     "metadata": {},
     "output_type": "execute_result"
    }
   ],
   "source": [
    "notas.get(\"Lucas Grijander\")"
   ]
  },
  {
   "cell_type": "markdown",
   "metadata": {},
   "source": [
    "Existe otra forma de introducir los datos, es decir, otra sintaxis para los diccionarios. En este caso, es una lista cuyas entradas son una tupla con dos elementos, donde el primero es el índice y el segundo la referencia:\n",
    "***\n",
    "`notas = dict([(\"José Pérez\", 4.5), (\"Andrés Martínez\", 7.4), (\"Lucas Grijander\", 9.5), (\"Lorenzo Jiménez\", 6.3)])`\n",
    "***\n"
   ]
  },
  {
   "cell_type": "code",
   "execution_count": 81,
   "metadata": {},
   "outputs": [],
   "source": [
    "notas = dict([(\"José Pérez\", 4.5), (\"Andrés Martínez\", 7.4), (\"Lucas Grijander\", 9.5), (\"Lorenzo Jiménez\", 6.3)])"
   ]
  },
  {
   "cell_type": "code",
   "execution_count": 82,
   "metadata": {},
   "outputs": [
    {
     "name": "stdout",
     "output_type": "stream",
     "text": [
      "{'José Pérez': 4.5, 'Andrés Martínez': 7.4, 'Lucas Grijander': 9.5, 'Lorenzo Jiménez': 6.3}\n"
     ]
    }
   ],
   "source": [
    "print(notas)"
   ]
  },
  {
   "cell_type": "markdown",
   "metadata": {},
   "source": [
    "Los diccionarios permiten modificar los datos:\n",
    "*** \n",
    "`notas[\"José Pérez\"] = 5.0# Venga, le aprobamos.`\n",
    "***"
   ]
  },
  {
   "cell_type": "markdown",
   "metadata": {},
   "source": [
    "Mostramos algunas operaciones que se pueden hacer con el diccionario:\n",
    "\n",
    "1. **Eliminar.** \n",
    "    1. Se puede eliminar un elemento con el método `pop()`: con `notas.pop(\"José Pérez\")` podemos eliminar la entrada relacionada con `José Pérez`.\n",
    "    2. Mostrar y eliminar una entrada aleatoria con el método `popitem()`: con `notas.popitem()` mostraría y eliminaría una entrada random.\n",
    "    3. Eliminar un diccionario: con el comando `del`, así `del notas` borraría esta variable. También funciona `del notas[\"José Pérez\"]` para eliminar una entrada.\n",
    "    4. Borrar el contenido de un diccionario mediante el método `clear()`: escribiendo `notas.clear()` borraría todo el contenido del diccionario `notas`.\n",
    "2. **Añadir.** \n",
    "    1. Para añadir una entrada nueva en el diccionario, lo añadimos mediante `notas[\"Paco Páez\"]=3.2`. \n",
    "    2. A diferencia de las listas, conjuntos, etc. no se concatenan como lo hacen estas estructuras.\n",
    "3. **Membresía.** Para ver que un _índice_ está en el diccionario usamos el comando `in`: por ejemplo, `\"Lucas Grijander\" in notas` devolvería `True` o `False` dependiendo de si existe o no `notas[\"Lucas Grijander\"]`.\n",
    "4. **Longitud.** El número de entradas de un diccionario se puede obtener mediante el comando `len()`: `len(notas)` nos daría el número de alumnos del que tenemos la nota puesta."
   ]
  },
  {
   "cell_type": "code",
   "execution_count": 83,
   "metadata": {},
   "outputs": [
    {
     "data": {
      "text/plain": [
       "True"
      ]
     },
     "execution_count": 83,
     "metadata": {},
     "output_type": "execute_result"
    }
   ],
   "source": [
    "\"Lucas Grijander\" in notas"
   ]
  },
  {
   "cell_type": "code",
   "execution_count": 84,
   "metadata": {},
   "outputs": [],
   "source": [
    "del notas[\"José Pérez\"] # Se borra una entrada"
   ]
  },
  {
   "cell_type": "code",
   "execution_count": 85,
   "metadata": {},
   "outputs": [
    {
     "name": "stdout",
     "output_type": "stream",
     "text": [
      "{'Andrés Martínez': 7.4, 'Lucas Grijander': 9.5, 'Lorenzo Jiménez': 6.3}\n"
     ]
    }
   ],
   "source": [
    "print(notas)# Observa que se ha borrado la entrada \"José Pérez\""
   ]
  },
  {
   "cell_type": "code",
   "execution_count": 86,
   "metadata": {},
   "outputs": [
    {
     "data": {
      "text/plain": [
       "3"
      ]
     },
     "execution_count": 86,
     "metadata": {},
     "output_type": "execute_result"
    }
   ],
   "source": [
    "len(notas)"
   ]
  },
  {
   "cell_type": "code",
   "execution_count": 87,
   "metadata": {},
   "outputs": [
    {
     "name": "stdout",
     "output_type": "stream",
     "text": [
      "{'Andrés Martínez': 7.4, 'Lucas Grijander': 9.5, 'Lorenzo Jiménez': 6.3, 'Paco Páez': 3.2}\n"
     ]
    }
   ],
   "source": [
    "notas[\"Paco Páez\"] = 3.2\n",
    "print(notas)"
   ]
  },
  {
   "cell_type": "code",
   "execution_count": 89,
   "metadata": {},
   "outputs": [
    {
     "ename": "TypeError",
     "evalue": "unsupported operand type(s) for +: 'dict' and 'dict'",
     "output_type": "error",
     "traceback": [
      "\u001b[0;31m---------------------------------------------------------------------------\u001b[0m",
      "\u001b[0;31mTypeError\u001b[0m                                 Traceback (most recent call last)",
      "\u001b[0;32m<ipython-input-89-518a973ee86b>\u001b[0m in \u001b[0;36m<module>\u001b[0;34m\u001b[0m\n\u001b[1;32m      1\u001b[0m \u001b[0mmasnotas\u001b[0m \u001b[0;34m=\u001b[0m \u001b[0mdict\u001b[0m\u001b[0;34m(\u001b[0m\u001b[0;34m[\u001b[0m\u001b[0;34m(\u001b[0m\u001b[0;34m\"Pepa Rodríguez\"\u001b[0m\u001b[0;34m,\u001b[0m \u001b[0;36m9.0\u001b[0m\u001b[0;34m)\u001b[0m\u001b[0;34m,\u001b[0m \u001b[0;34m(\u001b[0m\u001b[0;34m\"Lola Carretero\"\u001b[0m\u001b[0;34m,\u001b[0m\u001b[0;36m5.2\u001b[0m\u001b[0;34m)\u001b[0m\u001b[0;34m,\u001b[0m \u001b[0;34m(\u001b[0m\u001b[0;34m\"Zenobia Parada\"\u001b[0m\u001b[0;34m,\u001b[0m \u001b[0;36m7.6\u001b[0m\u001b[0;34m)\u001b[0m\u001b[0;34m]\u001b[0m\u001b[0;34m)\u001b[0m\u001b[0;34m\u001b[0m\u001b[0;34m\u001b[0m\u001b[0m\n\u001b[0;32m----> 2\u001b[0;31m \u001b[0mnotas\u001b[0m \u001b[0;34m+\u001b[0m \u001b[0mmasnotas\u001b[0m\u001b[0;34m\u001b[0m\u001b[0;34m\u001b[0m\u001b[0m\n\u001b[0m",
      "\u001b[0;31mTypeError\u001b[0m: unsupported operand type(s) for +: 'dict' and 'dict'"
     ]
    }
   ],
   "source": [
    "masnotas = dict([(\"Pepa Rodríguez\", 9.0), (\"Lola Carretero\",5.2), (\"Zenobia Parada\", 7.6)])\n",
    "notas + masnotas"
   ]
  },
  {
   "cell_type": "code",
   "execution_count": null,
   "metadata": {},
   "outputs": [],
   "source": []
  }
 ],
 "metadata": {
  "kernelspec": {
   "display_name": "Python 3",
   "language": "python",
   "name": "python3"
  },
  "language_info": {
   "codemirror_mode": {
    "name": "ipython",
    "version": 3
   },
   "file_extension": ".py",
   "mimetype": "text/x-python",
   "name": "python",
   "nbconvert_exporter": "python",
   "pygments_lexer": "ipython3",
   "version": "3.8.2"
  }
 },
 "nbformat": 4,
 "nbformat_minor": 4
}
